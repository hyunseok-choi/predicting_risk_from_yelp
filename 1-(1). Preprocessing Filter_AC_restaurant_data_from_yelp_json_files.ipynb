{
 "cells": [
  {
   "cell_type": "markdown",
   "metadata": {},
   "source": [
    "This file extracts Yelp data and filter with the zip code in Allegheny County.\n",
    "\n",
    "#### Yelp data (from Yelp dataset challenge)\n",
    "- This includes all kinds of businesses such as car wash and grocery stores\n",
    "- business.json\n",
    "- tip.json\n",
    "- review.json\n",
    "\n",
    "#### Zip code data for Allegheny County (from WPRDC)\n",
    "- AC_zipcode.txt"
   ]
  },
  {
   "cell_type": "code",
   "execution_count": 1,
   "metadata": {
    "collapsed": true
   },
   "outputs": [],
   "source": [
    "import json\n",
    "import csv\n",
    "import pandas as pd"
   ]
  },
  {
   "cell_type": "code",
   "execution_count": 2,
   "metadata": {
    "collapsed": false
   },
   "outputs": [],
   "source": [
    "# Get the ZIP code list for Allegheny County\n",
    "ac_zipcodes = []\n",
    "with open('../dataset/AC_zipcode.txt', 'r') as f:\n",
    "    for ac_zipcode in f:\n",
    "        z = ac_zipcode.rstrip('\\n')\n",
    "        ac_zipcodes.append(z)\n",
    "\n",
    "ac_zipcodes = ac_zipcodes[1:]\n",
    "#ac_zipcodes = list(map(int, ac_zipcodes))"
   ]
  },
  {
   "cell_type": "code",
   "execution_count": 3,
   "metadata": {
    "collapsed": false
   },
   "outputs": [],
   "source": [
    "# Finds all businesses in Allegheny County\n",
    "data = []\n",
    "business_ids = []\n",
    "with open('../dataset/data_old/business.json') as f:\n",
    "    for line in f:\n",
    "        js = json.loads(line)\n",
    "        if js['postal_code'] in ac_zipcodes:\n",
    "            data.append(js)\n",
    "            business_ids.append(js['business_id'])\n",
    "\n",
    "# read json and save it as CSV\n",
    "biz = pd.read_json(json.dumps(data))\n",
    "biz.to_csv('../dataset/ac_all_business.csv')    "
   ]
  },
  {
   "cell_type": "code",
   "execution_count": 4,
   "metadata": {
    "collapsed": true
   },
   "outputs": [],
   "source": [
    "# Tip of restaurants in AC\n",
    "ac_tips = []\n",
    "with open('../dataset/data_old/tip.json', mode='r', encoding='utf-8') as f:\n",
    "    for line in f:\n",
    "        js = json.loads(line)\n",
    "        if js['business_id'] in business_ids:\n",
    "            ac_tips.append(js)\n",
    "\n",
    "with open('../dataset/ac_all_tip.txt', 'w') as ff:\n",
    "    ff.write(json.dumps(ac_tips))\n",
    "    \n",
    "ac_tips_json = pd.read_json(json.dumps(ac_tips))\n",
    "ac_tips_json.to_csv('../dataset/ac_all_tips.csv')"
   ]
  },
  {
   "cell_type": "code",
   "execution_count": 5,
   "metadata": {
    "collapsed": false
   },
   "outputs": [],
   "source": [
    "# Review of restaurants in AC\n",
    "ac_reviews = []\n",
    "with open('../dataset/data_old/review.json', mode='r', encoding='utf-8') as f:\n",
    "    for line in f:\n",
    "        js = json.loads(line)\n",
    "        if js['business_id'] in business_ids:\n",
    "            ac_reviews.append(js)\n",
    "\n",
    "with open('../dataset/ac_all_review.txt', 'w') as ff:\n",
    "    ff.write(json.dumps(ac_reviews))\n",
    "    \n",
    "ac_reviews_json = pd.read_json(json.dumps(ac_reviews))\n",
    "ac_reviews_json.to_csv('../dataset/ac_all_review.csv')"
   ]
  }
 ],
 "metadata": {
  "anaconda-cloud": {},
  "kernelspec": {
   "display_name": "Python [Root]",
   "language": "python",
   "name": "Python [Root]"
  },
  "language_info": {
   "codemirror_mode": {
    "name": "ipython",
    "version": 3
   },
   "file_extension": ".py",
   "mimetype": "text/x-python",
   "name": "python",
   "nbconvert_exporter": "python",
   "pygments_lexer": "ipython3",
   "version": "3.5.2"
  }
 },
 "nbformat": 4,
 "nbformat_minor": 0
}
