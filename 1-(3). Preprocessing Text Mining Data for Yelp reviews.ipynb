{
 "cells": [
  {
   "cell_type": "markdown",
   "metadata": {},
   "source": [
    "# Count the occurence of the dictionary words in Yelp Reviews and Tips data"
   ]
  },
  {
   "cell_type": "code",
   "execution_count": 1,
   "metadata": {
    "collapsed": true
   },
   "outputs": [],
   "source": [
    "import pandas as pd\n",
    "import numpy as np\n",
    "import re\n",
    "import json\n",
    "import csv"
   ]
  },
  {
   "cell_type": "markdown",
   "metadata": {},
   "source": [
    "## Read Yelp Review and Tips data and mark the occurence of dictionary words"
   ]
  },
  {
   "cell_type": "code",
   "execution_count": 11,
   "metadata": {
    "collapsed": false
   },
   "outputs": [],
   "source": [
    "iy = pd.read_csv('../dataset/iy_ready2.csv', dtype={'ID': np.int64})"
   ]
  },
  {
   "cell_type": "code",
   "execution_count": 12,
   "metadata": {
    "collapsed": false
   },
   "outputs": [
    {
     "data": {
      "text/plain": [
       "(199434, 10)"
      ]
     },
     "execution_count": 12,
     "metadata": {},
     "output_type": "execute_result"
    }
   ],
   "source": [
    "review = pd.read_csv('../dataset/ac_all_review.csv', encoding='latin-1')\n",
    "review.shape # 199434 reviews"
   ]
  },
  {
   "cell_type": "code",
   "execution_count": 13,
   "metadata": {
    "collapsed": false
   },
   "outputs": [
    {
     "data": {
      "text/plain": [
       "(35143, 6)"
      ]
     },
     "execution_count": 13,
     "metadata": {},
     "output_type": "execute_result"
    }
   ],
   "source": [
    "tips = pd.read_csv('../dataset/ac_all_tips.csv', encoding='latin-1')\n",
    "tips.shape # 35143 tips"
   ]
  },
  {
   "cell_type": "code",
   "execution_count": 14,
   "metadata": {
    "collapsed": true
   },
   "outputs": [],
   "source": [
    "# Dictionary\n",
    "\n",
    "# Unhygenic\n",
    "unh=[\"gross\", \"mess\", \"sticky\", \"smell\", \"restroom\", \"dirty\", \"awful\", \"bad\", \"horrible\", \"worst\"]\n",
    "# Basic Ingredients\n",
    "ing=[\"beef\", \"pork\", \"noodle\", \"egg\", \"soy\",\"ramen\", \"pho\"]\n",
    "# Cuisines\n",
    "# cui=[\"vietnamese\", \"dim sum\", \"thai\", \"mexican\",\"japanese\", \"chinese\", \"american\", \"pizza\", \"sushi\", \"indian\",\"italian\", \"asian\"]\n",
    "# Sentiment\n",
    "sen=[\"cheap\", \"never\", \"yell\"]\n",
    "# Service & Atmosphere\n",
    "sna= [\"cash\", \"worth\", \"district\", \"delivery\",\"think\", \"really\", \"thing\", \"parking\", \"always\", \"usually\", \"definitely\",\n",
    "    \"door\", \"wait\", \"sticker\",\"shock\", \"student\",\"size\",\" dry\", \"too salty\", \"inedible\" , \"pool\"]\n",
    "unhygenic = [unh, ing, sen, sna]\n",
    "\n",
    "# Hygenic\n",
    "hhy = [\"clean\"]\n",
    "# Cooking Method & Garnish: \n",
    "hck = [\"brew\", \"frosting\", \"grill\",\"crush\", \"crust\", \"taco\", \"burrito\", \"toast\"]\n",
    "#Healthy or Fancier Ingredients: \n",
    "hing = [\"celery\", \"calamity\",\"wine\", \"broccoli\", \"salad\", \"flatbread\", \"olive\", \"pesto\"]\n",
    "# Cuisines: \n",
    "# hcui = [\"breakfast\", \"fish & chips\", \"fast food\", \"german\", \"diner\", \"belgian\", \"european\", \"sandwiches\",\"vegetarian\"] \n",
    "#Whom & When: \n",
    "hsit = [\"date\", \"weekend\", \"our\", \"husband\",\"evening\", \"night\"]\n",
    "#Sentiment: \n",
    "hsent = [\"love\", \"yummy\", \"generous\", \"friendly\", \"great\",\"nice\", \"excellent\", \"awesome\", \"delicious\", \"amazing\", \"best\"]\n",
    "#Service & Atmosphere: \n",
    "hsvat = [\"selection\", \"attitude\",\"atmosphere\", \"ambiance\", \"pretentious\"]\n",
    "hygenic = [hhy, hck, hing, hsit, hsent, hsvat]"
   ]
  },
  {
   "cell_type": "code",
   "execution_count": 15,
   "metadata": {
    "collapsed": false
   },
   "outputs": [],
   "source": [
    "for i in tips.iterrows():\n",
    "    if np.isin(i[1]['business_id'], list(iy['business_id'].unique())):\n",
    "        tips.loc[i[0], 'food_facility'] = 1\n",
    "        toks = re.findall(\"[\\w']+|[.,!?;]\", tips.iloc[i[0]]['text'].lower())\n",
    "        \n",
    "        for idx, dic in enumerate(unhygenic):\n",
    "            if np.isin(toks, dic).any():\n",
    "                tips.loc[i[0], \"unh_\"+str(idx)] = 1\n",
    "        for idx, dic in enumerate(hygenic):\n",
    "            if np.isin(toks, dic).any():\n",
    "                tips.loc[i[0], \"hyg_\"+str(idx)] = 1\n",
    "        \n",
    "    else:\n",
    "        tips.loc[i[0], 'food_facility'] = 0 # if it is 0, it doesn't belong to 'food facility'"
   ]
  },
  {
   "cell_type": "code",
   "execution_count": 16,
   "metadata": {
    "collapsed": true
   },
   "outputs": [],
   "source": [
    "for i in review.iterrows():\n",
    "    if np.isin(i[1]['business_id'], list(iy['business_id'].unique())):\n",
    "        review.loc[i[0], 'food_facility'] = 1\n",
    "        \n",
    "        toks = re.findall(\"[\\w']+|[.,!?;]\", review.iloc[i[0]]['text'].lower())\n",
    "        for idx, dic in enumerate(unhygenic):\n",
    "            if np.isin(toks, dic).any():\n",
    "                review.loc[i[0], \"unh_\"+str(idx)] = 1\n",
    "        for idx, dic in enumerate(hygenic):\n",
    "            if np.isin(toks, dic).any():\n",
    "                review.loc[i[0], \"hyg_\"+str(idx)] = 1\n",
    "    else:\n",
    "        review.loc[i[0], 'food_facility'] = 0 # if it is 0, it doesn't belong to 'food facility'"
   ]
  },
  {
   "cell_type": "code",
   "execution_count": 17,
   "metadata": {
    "collapsed": false
   },
   "outputs": [
    {
     "data": {
      "text/plain": [
       "0.0    19198\n",
       "1.0    15945\n",
       "Name: food_facility, dtype: int64"
      ]
     },
     "execution_count": 17,
     "metadata": {},
     "output_type": "execute_result"
    }
   ],
   "source": [
    "tips['food_facility'].value_counts()"
   ]
  },
  {
   "cell_type": "code",
   "execution_count": 18,
   "metadata": {
    "collapsed": false
   },
   "outputs": [
    {
     "data": {
      "text/plain": [
       "0.0    104508\n",
       "1.0     94926\n",
       "Name: food_facility, dtype: int64"
      ]
     },
     "execution_count": 18,
     "metadata": {},
     "output_type": "execute_result"
    }
   ],
   "source": [
    "review['food_facility'].value_counts()"
   ]
  },
  {
   "cell_type": "code",
   "execution_count": 19,
   "metadata": {
    "collapsed": false
   },
   "outputs": [],
   "source": [
    "tips = tips[tips['food_facility']==1]\n",
    "review = review[review['food_facility']==1]"
   ]
  },
  {
   "cell_type": "code",
   "execution_count": 21,
   "metadata": {
    "collapsed": false
   },
   "outputs": [
    {
     "data": {
      "text/plain": [
       "array(['Unnamed: 0', 'business_id', 'date', 'likes', 'text', 'user_id',\n",
       "       'food_facility', 'hyg_4', 'hyg_3', 'hyg_2', 'unh_3', 'unh_1',\n",
       "       'hyg_5', 'hyg_1', 'unh_0', 'unh_2', 'hyg_0'], dtype=object)"
      ]
     },
     "execution_count": 21,
     "metadata": {},
     "output_type": "execute_result"
    }
   ],
   "source": [
    "tips.columns.values"
   ]
  },
  {
   "cell_type": "code",
   "execution_count": 22,
   "metadata": {
    "collapsed": false
   },
   "outputs": [
    {
     "data": {
      "text/plain": [
       "array(['Unnamed: 0', 'business_id', 'cool', 'date', 'funny', 'review_id',\n",
       "       'stars', 'text', 'useful', 'user_id', 'food_facility', 'unh_3',\n",
       "       'hyg_4', 'hyg_3', 'unh_0', 'unh_2', 'hyg_1', 'hyg_5', 'hyg_2',\n",
       "       'unh_1', 'hyg_0'], dtype=object)"
      ]
     },
     "execution_count": 22,
     "metadata": {},
     "output_type": "execute_result"
    }
   ],
   "source": [
    "review.columns.values"
   ]
  },
  {
   "cell_type": "code",
   "execution_count": 25,
   "metadata": {
    "collapsed": false
   },
   "outputs": [],
   "source": [
    "# Fill na with 0\n",
    "# review.iloc[:,15:]\n",
    "review.iloc[:, 11:] = review.iloc[:, 11:].fillna(value=0)\n",
    "tips.iloc[:, 7:] = tips.iloc[:, 7:].fillna(value=0)"
   ]
  },
  {
   "cell_type": "code",
   "execution_count": 26,
   "metadata": {
    "collapsed": false
   },
   "outputs": [
    {
     "name": "stdout",
     "output_type": "stream",
     "text": [
      "Index(['Unnamed: 0', 'business_id', 'cool', 'date', 'funny', 'review_id',\n",
      "       'stars', 'text', 'useful', 'user_id', 'food_facility', 'unh_3', 'hyg_4',\n",
      "       'hyg_3', 'unh_0', 'unh_2', 'hyg_1', 'hyg_5', 'hyg_2', 'unh_1', 'hyg_0'],\n",
      "      dtype='object')\n",
      "Index(['Unnamed: 0', 'business_id', 'date', 'likes', 'text', 'user_id',\n",
      "       'food_facility', 'hyg_4', 'hyg_3', 'hyg_2', 'unh_3', 'unh_1', 'hyg_5',\n",
      "       'hyg_1', 'unh_0', 'unh_2', 'hyg_0'],\n",
      "      dtype='object')\n"
     ]
    }
   ],
   "source": [
    "print(review.columns)\n",
    "print(tips.columns)"
   ]
  },
  {
   "cell_type": "code",
   "execution_count": 27,
   "metadata": {
    "collapsed": true
   },
   "outputs": [],
   "source": [
    "review = review.drop(['Unnamed: 0', 'cool', 'funny', 'review_id', 'text', 'useful', 'user_id', 'food_facility'], axis=1)\n",
    "tips = tips.drop(['Unnamed: 0', 'likes', 'text', 'user_id', 'food_facility'], axis=1)"
   ]
  },
  {
   "cell_type": "code",
   "execution_count": 31,
   "metadata": {
    "collapsed": false
   },
   "outputs": [
    {
     "data": {
      "text/html": [
       "<div>\n",
       "<style>\n",
       "    .dataframe thead tr:only-child th {\n",
       "        text-align: right;\n",
       "    }\n",
       "\n",
       "    .dataframe thead th {\n",
       "        text-align: left;\n",
       "    }\n",
       "\n",
       "    .dataframe tbody tr th {\n",
       "        vertical-align: top;\n",
       "    }\n",
       "</style>\n",
       "<table border=\"1\" class=\"dataframe\">\n",
       "  <thead>\n",
       "    <tr style=\"text-align: right;\">\n",
       "      <th></th>\n",
       "      <th>business_id</th>\n",
       "      <th>date</th>\n",
       "      <th>hyg_0</th>\n",
       "      <th>hyg_1</th>\n",
       "      <th>hyg_2</th>\n",
       "      <th>hyg_3</th>\n",
       "      <th>hyg_4</th>\n",
       "      <th>hyg_5</th>\n",
       "      <th>stars</th>\n",
       "      <th>unh_0</th>\n",
       "      <th>unh_1</th>\n",
       "      <th>unh_2</th>\n",
       "      <th>unh_3</th>\n",
       "    </tr>\n",
       "  </thead>\n",
       "  <tbody>\n",
       "    <tr>\n",
       "      <th>200</th>\n",
       "      <td>3kPqtmL3EdfhCwxfIHT_iQ</td>\n",
       "      <td>2016-07-29</td>\n",
       "      <td>0.0</td>\n",
       "      <td>0.0</td>\n",
       "      <td>0.0</td>\n",
       "      <td>0.0</td>\n",
       "      <td>1.0</td>\n",
       "      <td>0.0</td>\n",
       "      <td>3.0</td>\n",
       "      <td>0.0</td>\n",
       "      <td>0.0</td>\n",
       "      <td>0.0</td>\n",
       "      <td>1.0</td>\n",
       "    </tr>\n",
       "    <tr>\n",
       "      <th>201</th>\n",
       "      <td>3kPqtmL3EdfhCwxfIHT_iQ</td>\n",
       "      <td>2016-11-12</td>\n",
       "      <td>0.0</td>\n",
       "      <td>0.0</td>\n",
       "      <td>0.0</td>\n",
       "      <td>0.0</td>\n",
       "      <td>1.0</td>\n",
       "      <td>0.0</td>\n",
       "      <td>5.0</td>\n",
       "      <td>0.0</td>\n",
       "      <td>0.0</td>\n",
       "      <td>0.0</td>\n",
       "      <td>0.0</td>\n",
       "    </tr>\n",
       "    <tr>\n",
       "      <th>202</th>\n",
       "      <td>3kPqtmL3EdfhCwxfIHT_iQ</td>\n",
       "      <td>2012-02-08</td>\n",
       "      <td>0.0</td>\n",
       "      <td>0.0</td>\n",
       "      <td>0.0</td>\n",
       "      <td>1.0</td>\n",
       "      <td>1.0</td>\n",
       "      <td>0.0</td>\n",
       "      <td>4.0</td>\n",
       "      <td>0.0</td>\n",
       "      <td>0.0</td>\n",
       "      <td>0.0</td>\n",
       "      <td>1.0</td>\n",
       "    </tr>\n",
       "    <tr>\n",
       "      <th>203</th>\n",
       "      <td>3kPqtmL3EdfhCwxfIHT_iQ</td>\n",
       "      <td>2015-01-04</td>\n",
       "      <td>0.0</td>\n",
       "      <td>0.0</td>\n",
       "      <td>0.0</td>\n",
       "      <td>0.0</td>\n",
       "      <td>0.0</td>\n",
       "      <td>0.0</td>\n",
       "      <td>1.0</td>\n",
       "      <td>1.0</td>\n",
       "      <td>0.0</td>\n",
       "      <td>1.0</td>\n",
       "      <td>0.0</td>\n",
       "    </tr>\n",
       "    <tr>\n",
       "      <th>204</th>\n",
       "      <td>3kPqtmL3EdfhCwxfIHT_iQ</td>\n",
       "      <td>2016-07-29</td>\n",
       "      <td>0.0</td>\n",
       "      <td>1.0</td>\n",
       "      <td>0.0</td>\n",
       "      <td>0.0</td>\n",
       "      <td>1.0</td>\n",
       "      <td>0.0</td>\n",
       "      <td>5.0</td>\n",
       "      <td>0.0</td>\n",
       "      <td>0.0</td>\n",
       "      <td>0.0</td>\n",
       "      <td>1.0</td>\n",
       "    </tr>\n",
       "  </tbody>\n",
       "</table>\n",
       "</div>"
      ],
      "text/plain": [
       "                business_id        date  hyg_0  hyg_1  hyg_2  hyg_3  hyg_4  \\\n",
       "200  3kPqtmL3EdfhCwxfIHT_iQ  2016-07-29    0.0    0.0    0.0    0.0    1.0   \n",
       "201  3kPqtmL3EdfhCwxfIHT_iQ  2016-11-12    0.0    0.0    0.0    0.0    1.0   \n",
       "202  3kPqtmL3EdfhCwxfIHT_iQ  2012-02-08    0.0    0.0    0.0    1.0    1.0   \n",
       "203  3kPqtmL3EdfhCwxfIHT_iQ  2015-01-04    0.0    0.0    0.0    0.0    0.0   \n",
       "204  3kPqtmL3EdfhCwxfIHT_iQ  2016-07-29    0.0    1.0    0.0    0.0    1.0   \n",
       "\n",
       "     hyg_5  stars  unh_0  unh_1  unh_2  unh_3  \n",
       "200    0.0    3.0    0.0    0.0    0.0    1.0  \n",
       "201    0.0    5.0    0.0    0.0    0.0    0.0  \n",
       "202    0.0    4.0    0.0    0.0    0.0    1.0  \n",
       "203    0.0    1.0    1.0    0.0    1.0    0.0  \n",
       "204    0.0    5.0    0.0    0.0    0.0    1.0  "
      ]
     },
     "execution_count": 31,
     "metadata": {},
     "output_type": "execute_result"
    }
   ],
   "source": [
    "rt = review.append(tips)\n",
    "rt.head()"
   ]
  },
  {
   "cell_type": "markdown",
   "metadata": {},
   "source": [
    "## Read a dataframe with Inspection data and Yelp main data combined"
   ]
  },
  {
   "cell_type": "code",
   "execution_count": 39,
   "metadata": {
    "collapsed": false
   },
   "outputs": [],
   "source": [
    "iy = pd.read_csv('../dataset/iy_ready2.csv', dtype={'ID': np.int64})"
   ]
  },
  {
   "cell_type": "code",
   "execution_count": 40,
   "metadata": {
    "collapsed": false
   },
   "outputs": [],
   "source": [
    "iy = iy.merge(rt, on='business_id')"
   ]
  },
  {
   "cell_type": "code",
   "execution_count": 41,
   "metadata": {
    "collapsed": false
   },
   "outputs": [
    {
     "name": "stdout",
     "output_type": "stream",
     "text": [
      "(617024, 54)\n"
     ]
    },
    {
     "data": {
      "text/html": [
       "<div>\n",
       "<style>\n",
       "    .dataframe thead tr:only-child th {\n",
       "        text-align: right;\n",
       "    }\n",
       "\n",
       "    .dataframe thead th {\n",
       "        text-align: left;\n",
       "    }\n",
       "\n",
       "    .dataframe tbody tr th {\n",
       "        vertical-align: top;\n",
       "    }\n",
       "</style>\n",
       "<table border=\"1\" class=\"dataframe\">\n",
       "  <thead>\n",
       "    <tr style=\"text-align: right;\">\n",
       "      <th></th>\n",
       "      <th>Unnamed: 0</th>\n",
       "      <th>Encounter</th>\n",
       "      <th>ID</th>\n",
       "      <th>Facility Name</th>\n",
       "      <th>Bus St Date</th>\n",
       "      <th>Description</th>\n",
       "      <th>NUM</th>\n",
       "      <th>Street</th>\n",
       "      <th>City</th>\n",
       "      <th>ZIP</th>\n",
       "      <th>...</th>\n",
       "      <th>hyg_1</th>\n",
       "      <th>hyg_2</th>\n",
       "      <th>hyg_3</th>\n",
       "      <th>hyg_4</th>\n",
       "      <th>hyg_5</th>\n",
       "      <th>stars_y</th>\n",
       "      <th>unh_0</th>\n",
       "      <th>unh_1</th>\n",
       "      <th>unh_2</th>\n",
       "      <th>unh_3</th>\n",
       "    </tr>\n",
       "  </thead>\n",
       "  <tbody>\n",
       "    <tr>\n",
       "      <th>0</th>\n",
       "      <td>0</td>\n",
       "      <td>201201030015</td>\n",
       "      <td>44322</td>\n",
       "      <td>Michael's Pizza Bar Restaurant</td>\n",
       "      <td>1989-01-31</td>\n",
       "      <td>Restaurant with Liquor</td>\n",
       "      <td>2612</td>\n",
       "      <td>Sarah St</td>\n",
       "      <td>Pittsburgh</td>\n",
       "      <td>15203</td>\n",
       "      <td>...</td>\n",
       "      <td>0.0</td>\n",
       "      <td>0.0</td>\n",
       "      <td>1.0</td>\n",
       "      <td>1.0</td>\n",
       "      <td>1.0</td>\n",
       "      <td>5.0</td>\n",
       "      <td>0.0</td>\n",
       "      <td>0.0</td>\n",
       "      <td>0.0</td>\n",
       "      <td>0.0</td>\n",
       "    </tr>\n",
       "    <tr>\n",
       "      <th>1</th>\n",
       "      <td>0</td>\n",
       "      <td>201201030015</td>\n",
       "      <td>44322</td>\n",
       "      <td>Michael's Pizza Bar Restaurant</td>\n",
       "      <td>1989-01-31</td>\n",
       "      <td>Restaurant with Liquor</td>\n",
       "      <td>2612</td>\n",
       "      <td>Sarah St</td>\n",
       "      <td>Pittsburgh</td>\n",
       "      <td>15203</td>\n",
       "      <td>...</td>\n",
       "      <td>0.0</td>\n",
       "      <td>0.0</td>\n",
       "      <td>0.0</td>\n",
       "      <td>0.0</td>\n",
       "      <td>0.0</td>\n",
       "      <td>1.0</td>\n",
       "      <td>0.0</td>\n",
       "      <td>0.0</td>\n",
       "      <td>0.0</td>\n",
       "      <td>0.0</td>\n",
       "    </tr>\n",
       "    <tr>\n",
       "      <th>2</th>\n",
       "      <td>0</td>\n",
       "      <td>201201030015</td>\n",
       "      <td>44322</td>\n",
       "      <td>Michael's Pizza Bar Restaurant</td>\n",
       "      <td>1989-01-31</td>\n",
       "      <td>Restaurant with Liquor</td>\n",
       "      <td>2612</td>\n",
       "      <td>Sarah St</td>\n",
       "      <td>Pittsburgh</td>\n",
       "      <td>15203</td>\n",
       "      <td>...</td>\n",
       "      <td>0.0</td>\n",
       "      <td>0.0</td>\n",
       "      <td>0.0</td>\n",
       "      <td>0.0</td>\n",
       "      <td>0.0</td>\n",
       "      <td>3.0</td>\n",
       "      <td>0.0</td>\n",
       "      <td>0.0</td>\n",
       "      <td>0.0</td>\n",
       "      <td>1.0</td>\n",
       "    </tr>\n",
       "    <tr>\n",
       "      <th>3</th>\n",
       "      <td>0</td>\n",
       "      <td>201201030015</td>\n",
       "      <td>44322</td>\n",
       "      <td>Michael's Pizza Bar Restaurant</td>\n",
       "      <td>1989-01-31</td>\n",
       "      <td>Restaurant with Liquor</td>\n",
       "      <td>2612</td>\n",
       "      <td>Sarah St</td>\n",
       "      <td>Pittsburgh</td>\n",
       "      <td>15203</td>\n",
       "      <td>...</td>\n",
       "      <td>0.0</td>\n",
       "      <td>0.0</td>\n",
       "      <td>0.0</td>\n",
       "      <td>0.0</td>\n",
       "      <td>1.0</td>\n",
       "      <td>2.0</td>\n",
       "      <td>0.0</td>\n",
       "      <td>0.0</td>\n",
       "      <td>0.0</td>\n",
       "      <td>0.0</td>\n",
       "    </tr>\n",
       "    <tr>\n",
       "      <th>4</th>\n",
       "      <td>0</td>\n",
       "      <td>201201030015</td>\n",
       "      <td>44322</td>\n",
       "      <td>Michael's Pizza Bar Restaurant</td>\n",
       "      <td>1989-01-31</td>\n",
       "      <td>Restaurant with Liquor</td>\n",
       "      <td>2612</td>\n",
       "      <td>Sarah St</td>\n",
       "      <td>Pittsburgh</td>\n",
       "      <td>15203</td>\n",
       "      <td>...</td>\n",
       "      <td>0.0</td>\n",
       "      <td>0.0</td>\n",
       "      <td>0.0</td>\n",
       "      <td>1.0</td>\n",
       "      <td>0.0</td>\n",
       "      <td>4.0</td>\n",
       "      <td>0.0</td>\n",
       "      <td>0.0</td>\n",
       "      <td>0.0</td>\n",
       "      <td>1.0</td>\n",
       "    </tr>\n",
       "  </tbody>\n",
       "</table>\n",
       "<p>5 rows × 54 columns</p>\n",
       "</div>"
      ],
      "text/plain": [
       "   Unnamed: 0     Encounter     ID                   Facility Name  \\\n",
       "0           0  201201030015  44322  Michael's Pizza Bar Restaurant   \n",
       "1           0  201201030015  44322  Michael's Pizza Bar Restaurant   \n",
       "2           0  201201030015  44322  Michael's Pizza Bar Restaurant   \n",
       "3           0  201201030015  44322  Michael's Pizza Bar Restaurant   \n",
       "4           0  201201030015  44322  Michael's Pizza Bar Restaurant   \n",
       "\n",
       "  Bus St Date             Description   NUM    Street        City    ZIP  \\\n",
       "0  1989-01-31  Restaurant with Liquor  2612  Sarah St  Pittsburgh  15203   \n",
       "1  1989-01-31  Restaurant with Liquor  2612  Sarah St  Pittsburgh  15203   \n",
       "2  1989-01-31  Restaurant with Liquor  2612  Sarah St  Pittsburgh  15203   \n",
       "3  1989-01-31  Restaurant with Liquor  2612  Sarah St  Pittsburgh  15203   \n",
       "4  1989-01-31  Restaurant with Liquor  2612  Sarah St  Pittsburgh  15203   \n",
       "\n",
       "   ...  hyg_1 hyg_2 hyg_3  hyg_4  hyg_5  stars_y unh_0 unh_1 unh_2 unh_3  \n",
       "0  ...    0.0   0.0   1.0    1.0    1.0      5.0   0.0   0.0   0.0   0.0  \n",
       "1  ...    0.0   0.0   0.0    0.0    0.0      1.0   0.0   0.0   0.0   0.0  \n",
       "2  ...    0.0   0.0   0.0    0.0    0.0      3.0   0.0   0.0   0.0   1.0  \n",
       "3  ...    0.0   0.0   0.0    0.0    1.0      2.0   0.0   0.0   0.0   0.0  \n",
       "4  ...    0.0   0.0   0.0    1.0    0.0      4.0   0.0   0.0   0.0   1.0  \n",
       "\n",
       "[5 rows x 54 columns]"
      ]
     },
     "execution_count": 41,
     "metadata": {},
     "output_type": "execute_result"
    }
   ],
   "source": [
    "print(iy.shape)\n",
    "iy.head()"
   ]
  },
  {
   "cell_type": "code",
   "execution_count": 48,
   "metadata": {
    "collapsed": false
   },
   "outputs": [
    {
     "name": "stdout",
     "output_type": "stream",
     "text": [
      "There has been approximately 10,000 restaurants in the original Yelp data, but now it has only 1942 restaurants.\n"
     ]
    }
   ],
   "source": [
    "print(\"There has been approximately 10,000 restaurants in the original Yelp data, but now it has only {0} restaurants.\".format(iy['ID'].unique().shape[0]))"
   ]
  },
  {
   "cell_type": "code",
   "execution_count": 42,
   "metadata": {
    "collapsed": false
   },
   "outputs": [
    {
     "data": {
      "text/plain": [
       "Index(['Unnamed: 0', 'Encounter', 'ID', 'Facility Name', 'Bus St Date',\n",
       "       'Description', 'NUM', 'Street', 'City', 'ZIP', 'Inspect Dt',\n",
       "       'Start Time', 'End Time', 'Low', 'Medium', 'High', 'business_id',\n",
       "       'address', 'attributes', 'categories', 'city', 'name', 'neighborhood',\n",
       "       'postal_code', 'review_count', 'stars_x', 'state', 'day_diff', 'price',\n",
       "       'cuisine_Asian Fusion', 'cuisine_Vegetarian', 'cuisine_Chinese',\n",
       "       'cuisine_American (Traditional)', 'cuisine_Italian', 'cuisine_Mexican',\n",
       "       'cuisine_Thai', 'cuisine_others', 'cuisine_American (New)',\n",
       "       'cuisine_Indian', 'cuisine_Japanese', 'cuisine_Greek',\n",
       "       'cuisine_Mediterranean', 'date', 'hyg_0', 'hyg_1', 'hyg_2', 'hyg_3',\n",
       "       'hyg_4', 'hyg_5', 'stars_y', 'unh_0', 'unh_1', 'unh_2', 'unh_3'],\n",
       "      dtype='object')"
      ]
     },
     "execution_count": 42,
     "metadata": {},
     "output_type": "execute_result"
    }
   ],
   "source": [
    "iy.columns"
   ]
  },
  {
   "cell_type": "code",
   "execution_count": 43,
   "metadata": {
    "collapsed": true
   },
   "outputs": [],
   "source": [
    "iym = iy.drop(['Unnamed: 0', 'NUM', 'Street', 'City', 'ZIP', 'Start Time', 'End Time', 'attributes', 'categories', 'city',\n",
    "              'name', 'neighborhood', 'postal_code', 'review_count', 'stars_x', 'state', 'day_diff'], axis=1)"
   ]
  },
  {
   "cell_type": "code",
   "execution_count": 44,
   "metadata": {
    "collapsed": false
   },
   "outputs": [
    {
     "data": {
      "text/plain": [
       "array(['Encounter', 'ID', 'Facility Name', 'Bus St Date', 'Description',\n",
       "       'Inspect Dt', 'Low', 'Medium', 'High', 'business_id', 'address',\n",
       "       'price', 'cuisine_Asian Fusion', 'cuisine_Vegetarian',\n",
       "       'cuisine_Chinese', 'cuisine_American (Traditional)',\n",
       "       'cuisine_Italian', 'cuisine_Mexican', 'cuisine_Thai',\n",
       "       'cuisine_others', 'cuisine_American (New)', 'cuisine_Indian',\n",
       "       'cuisine_Japanese', 'cuisine_Greek', 'cuisine_Mediterranean',\n",
       "       'date', 'hyg_0', 'hyg_1', 'hyg_2', 'hyg_3', 'hyg_4', 'hyg_5',\n",
       "       'stars_y', 'unh_0', 'unh_1', 'unh_2', 'unh_3'], dtype=object)"
      ]
     },
     "execution_count": 44,
     "metadata": {},
     "output_type": "execute_result"
    }
   ],
   "source": [
    "iym.columns.values"
   ]
  },
  {
   "cell_type": "code",
   "execution_count": 49,
   "metadata": {
    "collapsed": false
   },
   "outputs": [],
   "source": [
    "# Change data type\n",
    "iym['date'] = pd.to_datetime(iym['date'])\n",
    "iym['Inspect Dt'] = pd.to_datetime(iym['Inspect Dt'])\n",
    "iym['day_diff']=0\n",
    "\n",
    "# Calculate day difference\n",
    "def get_day_diff(row):\n",
    "    return (row['Inspect Dt'] - row['date']).days\n",
    "\n",
    "iym['day_diff'] = iym.apply(get_day_diff, axis=1)"
   ]
  },
  {
   "cell_type": "code",
   "execution_count": 57,
   "metadata": {
    "collapsed": false
   },
   "outputs": [
    {
     "name": "stdout",
     "output_type": "stream",
     "text": [
      "(104799, 39)\n"
     ]
    },
    {
     "name": "stderr",
     "output_type": "stream",
     "text": [
      "C:\\Dev\\Anaconda3\\lib\\site-packages\\ipykernel\\__main__.py:3: SettingWithCopyWarning: \n",
      "A value is trying to be set on a copy of a slice from a DataFrame.\n",
      "Try using .loc[row_indexer,col_indexer] = value instead\n",
      "\n",
      "See the caveats in the documentation: http://pandas.pydata.org/pandas-docs/stable/indexing.html#indexing-view-versus-copy\n",
      "  app.launch_new_instance()\n"
     ]
    },
    {
     "data": {
      "text/html": [
       "<div>\n",
       "<style>\n",
       "    .dataframe thead tr:only-child th {\n",
       "        text-align: right;\n",
       "    }\n",
       "\n",
       "    .dataframe thead th {\n",
       "        text-align: left;\n",
       "    }\n",
       "\n",
       "    .dataframe tbody tr th {\n",
       "        vertical-align: top;\n",
       "    }\n",
       "</style>\n",
       "<table border=\"1\" class=\"dataframe\">\n",
       "  <thead>\n",
       "    <tr style=\"text-align: right;\">\n",
       "      <th></th>\n",
       "      <th>Encounter</th>\n",
       "      <th>ID</th>\n",
       "      <th>Facility Name</th>\n",
       "      <th>Bus St Date</th>\n",
       "      <th>Description</th>\n",
       "      <th>Inspect Dt</th>\n",
       "      <th>Low</th>\n",
       "      <th>Medium</th>\n",
       "      <th>High</th>\n",
       "      <th>business_id</th>\n",
       "      <th>...</th>\n",
       "      <th>hyg_3</th>\n",
       "      <th>hyg_4</th>\n",
       "      <th>hyg_5</th>\n",
       "      <th>stars_y</th>\n",
       "      <th>unh_0</th>\n",
       "      <th>unh_1</th>\n",
       "      <th>unh_2</th>\n",
       "      <th>unh_3</th>\n",
       "      <th>day_diff</th>\n",
       "      <th>count</th>\n",
       "    </tr>\n",
       "  </thead>\n",
       "  <tbody>\n",
       "    <tr>\n",
       "      <th>53</th>\n",
       "      <td>201201030015</td>\n",
       "      <td>44322</td>\n",
       "      <td>Michael's Pizza Bar Restaurant</td>\n",
       "      <td>1989-01-31</td>\n",
       "      <td>Restaurant with Liquor</td>\n",
       "      <td>2012-01-03</td>\n",
       "      <td>0.0</td>\n",
       "      <td>0.0</td>\n",
       "      <td>0.0</td>\n",
       "      <td>38aN0fB_zHtkw1kb3lSj8g</td>\n",
       "      <td>...</td>\n",
       "      <td>1.0</td>\n",
       "      <td>1.0</td>\n",
       "      <td>0.0</td>\n",
       "      <td>5.0</td>\n",
       "      <td>0.0</td>\n",
       "      <td>0.0</td>\n",
       "      <td>1.0</td>\n",
       "      <td>1.0</td>\n",
       "      <td>80</td>\n",
       "      <td>1</td>\n",
       "    </tr>\n",
       "    <tr>\n",
       "      <th>68</th>\n",
       "      <td>201201030015</td>\n",
       "      <td>44322</td>\n",
       "      <td>Michael's Pizza Bar Restaurant</td>\n",
       "      <td>1989-01-31</td>\n",
       "      <td>Restaurant with Liquor</td>\n",
       "      <td>2012-01-03</td>\n",
       "      <td>0.0</td>\n",
       "      <td>0.0</td>\n",
       "      <td>0.0</td>\n",
       "      <td>38aN0fB_zHtkw1kb3lSj8g</td>\n",
       "      <td>...</td>\n",
       "      <td>0.0</td>\n",
       "      <td>1.0</td>\n",
       "      <td>1.0</td>\n",
       "      <td>NaN</td>\n",
       "      <td>0.0</td>\n",
       "      <td>0.0</td>\n",
       "      <td>0.0</td>\n",
       "      <td>0.0</td>\n",
       "      <td>322</td>\n",
       "      <td>1</td>\n",
       "    </tr>\n",
       "    <tr>\n",
       "      <th>71</th>\n",
       "      <td>201201030015</td>\n",
       "      <td>44322</td>\n",
       "      <td>Michael's Pizza Bar Restaurant</td>\n",
       "      <td>1989-01-31</td>\n",
       "      <td>Restaurant with Liquor</td>\n",
       "      <td>2012-01-03</td>\n",
       "      <td>0.0</td>\n",
       "      <td>0.0</td>\n",
       "      <td>0.0</td>\n",
       "      <td>38aN0fB_zHtkw1kb3lSj8g</td>\n",
       "      <td>...</td>\n",
       "      <td>0.0</td>\n",
       "      <td>0.0</td>\n",
       "      <td>0.0</td>\n",
       "      <td>NaN</td>\n",
       "      <td>0.0</td>\n",
       "      <td>0.0</td>\n",
       "      <td>0.0</td>\n",
       "      <td>0.0</td>\n",
       "      <td>276</td>\n",
       "      <td>1</td>\n",
       "    </tr>\n",
       "    <tr>\n",
       "      <th>72</th>\n",
       "      <td>201201030015</td>\n",
       "      <td>44322</td>\n",
       "      <td>Michael's Pizza Bar Restaurant</td>\n",
       "      <td>1989-01-31</td>\n",
       "      <td>Restaurant with Liquor</td>\n",
       "      <td>2012-01-03</td>\n",
       "      <td>0.0</td>\n",
       "      <td>0.0</td>\n",
       "      <td>0.0</td>\n",
       "      <td>38aN0fB_zHtkw1kb3lSj8g</td>\n",
       "      <td>...</td>\n",
       "      <td>0.0</td>\n",
       "      <td>0.0</td>\n",
       "      <td>0.0</td>\n",
       "      <td>NaN</td>\n",
       "      <td>0.0</td>\n",
       "      <td>0.0</td>\n",
       "      <td>0.0</td>\n",
       "      <td>0.0</td>\n",
       "      <td>221</td>\n",
       "      <td>1</td>\n",
       "    </tr>\n",
       "    <tr>\n",
       "      <th>73</th>\n",
       "      <td>201201030015</td>\n",
       "      <td>44322</td>\n",
       "      <td>Michael's Pizza Bar Restaurant</td>\n",
       "      <td>1989-01-31</td>\n",
       "      <td>Restaurant with Liquor</td>\n",
       "      <td>2012-01-03</td>\n",
       "      <td>0.0</td>\n",
       "      <td>0.0</td>\n",
       "      <td>0.0</td>\n",
       "      <td>38aN0fB_zHtkw1kb3lSj8g</td>\n",
       "      <td>...</td>\n",
       "      <td>0.0</td>\n",
       "      <td>0.0</td>\n",
       "      <td>0.0</td>\n",
       "      <td>NaN</td>\n",
       "      <td>0.0</td>\n",
       "      <td>0.0</td>\n",
       "      <td>0.0</td>\n",
       "      <td>0.0</td>\n",
       "      <td>83</td>\n",
       "      <td>1</td>\n",
       "    </tr>\n",
       "  </tbody>\n",
       "</table>\n",
       "<p>5 rows × 39 columns</p>\n",
       "</div>"
      ],
      "text/plain": [
       "       Encounter     ID                   Facility Name Bus St Date  \\\n",
       "53  201201030015  44322  Michael's Pizza Bar Restaurant  1989-01-31   \n",
       "68  201201030015  44322  Michael's Pizza Bar Restaurant  1989-01-31   \n",
       "71  201201030015  44322  Michael's Pizza Bar Restaurant  1989-01-31   \n",
       "72  201201030015  44322  Michael's Pizza Bar Restaurant  1989-01-31   \n",
       "73  201201030015  44322  Michael's Pizza Bar Restaurant  1989-01-31   \n",
       "\n",
       "               Description Inspect Dt  Low  Medium  High  \\\n",
       "53  Restaurant with Liquor 2012-01-03  0.0     0.0   0.0   \n",
       "68  Restaurant with Liquor 2012-01-03  0.0     0.0   0.0   \n",
       "71  Restaurant with Liquor 2012-01-03  0.0     0.0   0.0   \n",
       "72  Restaurant with Liquor 2012-01-03  0.0     0.0   0.0   \n",
       "73  Restaurant with Liquor 2012-01-03  0.0     0.0   0.0   \n",
       "\n",
       "               business_id  ...   hyg_3  hyg_4  hyg_5  stars_y  unh_0  unh_1  \\\n",
       "53  38aN0fB_zHtkw1kb3lSj8g  ...     1.0    1.0    0.0      5.0    0.0    0.0   \n",
       "68  38aN0fB_zHtkw1kb3lSj8g  ...     0.0    1.0    1.0      NaN    0.0    0.0   \n",
       "71  38aN0fB_zHtkw1kb3lSj8g  ...     0.0    0.0    0.0      NaN    0.0    0.0   \n",
       "72  38aN0fB_zHtkw1kb3lSj8g  ...     0.0    0.0    0.0      NaN    0.0    0.0   \n",
       "73  38aN0fB_zHtkw1kb3lSj8g  ...     0.0    0.0    0.0      NaN    0.0    0.0   \n",
       "\n",
       "    unh_2  unh_3  day_diff  count  \n",
       "53    1.0    1.0        80      1  \n",
       "68    0.0    0.0       322      1  \n",
       "71    0.0    0.0       276      1  \n",
       "72    0.0    0.0       221      1  \n",
       "73    0.0    0.0        83      1  \n",
       "\n",
       "[5 rows x 39 columns]"
      ]
     },
     "execution_count": 57,
     "metadata": {},
     "output_type": "execute_result"
    }
   ],
   "source": [
    "# Use only past 1 year data\n",
    "iy12 = iym[(iym['day_diff']<=365) & (iym['day_diff']>0)]\n",
    "iy12['count']=1\n",
    "print(iy12.shape)\n",
    "iy12.head()"
   ]
  },
  {
   "cell_type": "code",
   "execution_count": 58,
   "metadata": {
    "collapsed": false
   },
   "outputs": [
    {
     "data": {
      "text/plain": [
       "array(['Encounter', 'ID', 'Facility Name', 'Bus St Date', 'Description',\n",
       "       'Inspect Dt', 'Low', 'Medium', 'High', 'business_id', 'address',\n",
       "       'price', 'cuisine_Asian Fusion', 'cuisine_Vegetarian',\n",
       "       'cuisine_Chinese', 'cuisine_American (Traditional)',\n",
       "       'cuisine_Italian', 'cuisine_Mexican', 'cuisine_Thai',\n",
       "       'cuisine_others', 'cuisine_American (New)', 'cuisine_Indian',\n",
       "       'cuisine_Japanese', 'cuisine_Greek', 'cuisine_Mediterranean',\n",
       "       'date', 'hyg_0', 'hyg_1', 'hyg_2', 'hyg_3', 'hyg_4', 'hyg_5',\n",
       "       'stars_y', 'unh_0', 'unh_1', 'unh_2', 'unh_3', 'day_diff', 'count'], dtype=object)"
      ]
     },
     "execution_count": 58,
     "metadata": {},
     "output_type": "execute_result"
    }
   ],
   "source": [
    "iy12.columns.values"
   ]
  },
  {
   "cell_type": "code",
   "execution_count": 53,
   "metadata": {
    "collapsed": false
   },
   "outputs": [],
   "source": [
    "# Group by inspection\n",
    "# Each row represents a unique inspection\n",
    "iy12a = iy12.groupby(['Encounter', 'ID', 'Facility Name', 'Bus St Date', 'Description', 'Inspect Dt', \n",
    "                      'Low', 'Medium', 'High', 'business_id', 'address', 'price'],\n",
    "                     as_index=False)['cuisine_Asian Fusion', 'cuisine_Vegetarian', 'cuisine_Chinese', \n",
    "                                     'cuisine_American (Traditional)', 'cuisine_Italian', 'cuisine_Mexican', \n",
    "                                     'cuisine_Thai', 'cuisine_others', 'cuisine_American (New)', 'cuisine_Indian', \n",
    "                                     'cuisine_Japanese', 'cuisine_Greek', 'cuisine_Mediterranean', \n",
    "                                     'hyg_0', 'hyg_1', 'hyg_2', 'hyg_3', 'hyg_4', 'hyg_5', \n",
    "                                     'unh_0', 'unh_1', 'unh_2', 'unh_3', 'stars_y'].mean()"
   ]
  },
  {
   "cell_type": "code",
   "execution_count": 59,
   "metadata": {
    "collapsed": false
   },
   "outputs": [],
   "source": [
    "iy12c = iy12.groupby(['Encounter', 'ID', 'Facility Name', 'Bus St Date', 'Description', 'Inspect Dt', \n",
    "                      'Low', 'Medium', 'High', 'business_id', 'address', 'price'],\n",
    "                     as_index=False)['count'].sum()"
   ]
  },
  {
   "cell_type": "code",
   "execution_count": 60,
   "metadata": {
    "collapsed": false
   },
   "outputs": [
    {
     "data": {
      "text/plain": [
       "(104799, 39)"
      ]
     },
     "execution_count": 60,
     "metadata": {},
     "output_type": "execute_result"
    }
   ],
   "source": [
    "iy12.shape"
   ]
  },
  {
   "cell_type": "code",
   "execution_count": 63,
   "metadata": {
    "collapsed": false
   },
   "outputs": [
    {
     "data": {
      "text/plain": [
       "(4572, 37)"
      ]
     },
     "execution_count": 63,
     "metadata": {},
     "output_type": "execute_result"
    }
   ],
   "source": [
    "iy12th = pd.concat([iy12a, iy12c[['count']]], axis=1)\n",
    "iy12th = iy12th[iy12th['count']>=5] # Minimum review or tips count to be included\n",
    "iy12th.shape"
   ]
  },
  {
   "cell_type": "code",
   "execution_count": 64,
   "metadata": {
    "collapsed": false
   },
   "outputs": [
    {
     "data": {
      "text/html": [
       "<div>\n",
       "<style>\n",
       "    .dataframe thead tr:only-child th {\n",
       "        text-align: right;\n",
       "    }\n",
       "\n",
       "    .dataframe thead th {\n",
       "        text-align: left;\n",
       "    }\n",
       "\n",
       "    .dataframe tbody tr th {\n",
       "        vertical-align: top;\n",
       "    }\n",
       "</style>\n",
       "<table border=\"1\" class=\"dataframe\">\n",
       "  <thead>\n",
       "    <tr style=\"text-align: right;\">\n",
       "      <th></th>\n",
       "      <th>Encounter</th>\n",
       "      <th>ID</th>\n",
       "      <th>Facility Name</th>\n",
       "      <th>Bus St Date</th>\n",
       "      <th>Description</th>\n",
       "      <th>Inspect Dt</th>\n",
       "      <th>Low</th>\n",
       "      <th>Medium</th>\n",
       "      <th>High</th>\n",
       "      <th>business_id</th>\n",
       "      <th>...</th>\n",
       "      <th>hyg_2</th>\n",
       "      <th>hyg_3</th>\n",
       "      <th>hyg_4</th>\n",
       "      <th>hyg_5</th>\n",
       "      <th>unh_0</th>\n",
       "      <th>unh_1</th>\n",
       "      <th>unh_2</th>\n",
       "      <th>unh_3</th>\n",
       "      <th>stars_y</th>\n",
       "      <th>count</th>\n",
       "    </tr>\n",
       "  </thead>\n",
       "  <tbody>\n",
       "    <tr>\n",
       "      <th>0</th>\n",
       "      <td>201201030015</td>\n",
       "      <td>44322</td>\n",
       "      <td>Michael's Pizza Bar Restaurant</td>\n",
       "      <td>1989-01-31</td>\n",
       "      <td>Restaurant with Liquor</td>\n",
       "      <td>2012-01-03</td>\n",
       "      <td>0.0</td>\n",
       "      <td>0.0</td>\n",
       "      <td>0.0</td>\n",
       "      <td>38aN0fB_zHtkw1kb3lSj8g</td>\n",
       "      <td>...</td>\n",
       "      <td>0.000000</td>\n",
       "      <td>0.200000</td>\n",
       "      <td>0.400000</td>\n",
       "      <td>0.200000</td>\n",
       "      <td>0.000000</td>\n",
       "      <td>0.000000</td>\n",
       "      <td>0.200000</td>\n",
       "      <td>0.200000</td>\n",
       "      <td>5.000000</td>\n",
       "      <td>5</td>\n",
       "    </tr>\n",
       "    <tr>\n",
       "      <th>1</th>\n",
       "      <td>201201040023</td>\n",
       "      <td>200707190005</td>\n",
       "      <td>China Palace</td>\n",
       "      <td>2007-07-11</td>\n",
       "      <td>Chain Restaurant with Liquor</td>\n",
       "      <td>2012-01-04</td>\n",
       "      <td>0.0</td>\n",
       "      <td>0.0</td>\n",
       "      <td>0.0</td>\n",
       "      <td>f2FfutZhb4F-m1Ob0EdYaw</td>\n",
       "      <td>...</td>\n",
       "      <td>0.090909</td>\n",
       "      <td>0.181818</td>\n",
       "      <td>0.727273</td>\n",
       "      <td>0.181818</td>\n",
       "      <td>0.181818</td>\n",
       "      <td>0.545455</td>\n",
       "      <td>0.363636</td>\n",
       "      <td>0.727273</td>\n",
       "      <td>3.700000</td>\n",
       "      <td>11</td>\n",
       "    </tr>\n",
       "    <tr>\n",
       "      <th>3</th>\n",
       "      <td>201201050018</td>\n",
       "      <td>1795</td>\n",
       "      <td>Robert Wholey Co</td>\n",
       "      <td>1992-12-16</td>\n",
       "      <td>Supermarket</td>\n",
       "      <td>2012-01-05</td>\n",
       "      <td>0.0</td>\n",
       "      <td>0.0</td>\n",
       "      <td>0.0</td>\n",
       "      <td>hsRjct8UiUHU54B983GmcA</td>\n",
       "      <td>...</td>\n",
       "      <td>0.064516</td>\n",
       "      <td>0.129032</td>\n",
       "      <td>0.612903</td>\n",
       "      <td>0.096774</td>\n",
       "      <td>0.129032</td>\n",
       "      <td>0.064516</td>\n",
       "      <td>0.129032</td>\n",
       "      <td>0.483871</td>\n",
       "      <td>4.095238</td>\n",
       "      <td>31</td>\n",
       "    </tr>\n",
       "    <tr>\n",
       "      <th>8</th>\n",
       "      <td>201201050040</td>\n",
       "      <td>200709250001</td>\n",
       "      <td>Miller's Seafood House</td>\n",
       "      <td>2007-09-24</td>\n",
       "      <td>Restaurant with Liquor</td>\n",
       "      <td>2012-01-05</td>\n",
       "      <td>0.0</td>\n",
       "      <td>0.0</td>\n",
       "      <td>0.0</td>\n",
       "      <td>jjullAo_5_q3x3yagyLmMA</td>\n",
       "      <td>...</td>\n",
       "      <td>0.000000</td>\n",
       "      <td>0.200000</td>\n",
       "      <td>0.600000</td>\n",
       "      <td>0.000000</td>\n",
       "      <td>0.400000</td>\n",
       "      <td>0.000000</td>\n",
       "      <td>0.200000</td>\n",
       "      <td>0.400000</td>\n",
       "      <td>2.750000</td>\n",
       "      <td>5</td>\n",
       "    </tr>\n",
       "    <tr>\n",
       "      <th>9</th>\n",
       "      <td>201201060028</td>\n",
       "      <td>199901120003</td>\n",
       "      <td>Klavon's Ice Cream Parlor</td>\n",
       "      <td>1999-01-05</td>\n",
       "      <td>Restaurant without Liquor</td>\n",
       "      <td>2012-01-06</td>\n",
       "      <td>0.0</td>\n",
       "      <td>0.0</td>\n",
       "      <td>0.0</td>\n",
       "      <td>4iSVxQKK1G3V-LBffQxaKg</td>\n",
       "      <td>...</td>\n",
       "      <td>0.000000</td>\n",
       "      <td>0.300000</td>\n",
       "      <td>0.600000</td>\n",
       "      <td>0.200000</td>\n",
       "      <td>0.100000</td>\n",
       "      <td>0.200000</td>\n",
       "      <td>0.200000</td>\n",
       "      <td>1.000000</td>\n",
       "      <td>4.000000</td>\n",
       "      <td>10</td>\n",
       "    </tr>\n",
       "  </tbody>\n",
       "</table>\n",
       "<p>5 rows × 37 columns</p>\n",
       "</div>"
      ],
      "text/plain": [
       "      Encounter            ID                   Facility Name Bus St Date  \\\n",
       "0  201201030015         44322  Michael's Pizza Bar Restaurant  1989-01-31   \n",
       "1  201201040023  200707190005                    China Palace  2007-07-11   \n",
       "3  201201050018          1795                Robert Wholey Co  1992-12-16   \n",
       "8  201201050040  200709250001          Miller's Seafood House  2007-09-24   \n",
       "9  201201060028  199901120003       Klavon's Ice Cream Parlor  1999-01-05   \n",
       "\n",
       "                    Description Inspect Dt  Low  Medium  High  \\\n",
       "0        Restaurant with Liquor 2012-01-03  0.0     0.0   0.0   \n",
       "1  Chain Restaurant with Liquor 2012-01-04  0.0     0.0   0.0   \n",
       "3                   Supermarket 2012-01-05  0.0     0.0   0.0   \n",
       "8        Restaurant with Liquor 2012-01-05  0.0     0.0   0.0   \n",
       "9     Restaurant without Liquor 2012-01-06  0.0     0.0   0.0   \n",
       "\n",
       "              business_id  ...       hyg_2     hyg_3     hyg_4     hyg_5  \\\n",
       "0  38aN0fB_zHtkw1kb3lSj8g  ...    0.000000  0.200000  0.400000  0.200000   \n",
       "1  f2FfutZhb4F-m1Ob0EdYaw  ...    0.090909  0.181818  0.727273  0.181818   \n",
       "3  hsRjct8UiUHU54B983GmcA  ...    0.064516  0.129032  0.612903  0.096774   \n",
       "8  jjullAo_5_q3x3yagyLmMA  ...    0.000000  0.200000  0.600000  0.000000   \n",
       "9  4iSVxQKK1G3V-LBffQxaKg  ...    0.000000  0.300000  0.600000  0.200000   \n",
       "\n",
       "      unh_0     unh_1     unh_2     unh_3   stars_y  count  \n",
       "0  0.000000  0.000000  0.200000  0.200000  5.000000      5  \n",
       "1  0.181818  0.545455  0.363636  0.727273  3.700000     11  \n",
       "3  0.129032  0.064516  0.129032  0.483871  4.095238     31  \n",
       "8  0.400000  0.000000  0.200000  0.400000  2.750000      5  \n",
       "9  0.100000  0.200000  0.200000  1.000000  4.000000     10  \n",
       "\n",
       "[5 rows x 37 columns]"
      ]
     },
     "execution_count": 64,
     "metadata": {},
     "output_type": "execute_result"
    }
   ],
   "source": [
    "iy12th.head()"
   ]
  },
  {
   "cell_type": "code",
   "execution_count": 66,
   "metadata": {
    "collapsed": true
   },
   "outputs": [],
   "source": [
    "iy12th.to_csv('../dataset/iy12th2.csv')"
   ]
  },
  {
   "cell_type": "code",
   "execution_count": 65,
   "metadata": {
    "collapsed": true
   },
   "outputs": [],
   "source": [
    "# iy12th.to_csv('../dataset/iy12th.csv') # Old version (without category, attribute, hygenic dictionary words)"
   ]
  },
  {
   "cell_type": "code",
   "execution_count": null,
   "metadata": {
    "collapsed": true
   },
   "outputs": [],
   "source": []
  }
 ],
 "metadata": {
  "anaconda-cloud": {},
  "kernelspec": {
   "display_name": "Python [Root]",
   "language": "python",
   "name": "Python [Root]"
  },
  "language_info": {
   "codemirror_mode": {
    "name": "ipython",
    "version": 3
   },
   "file_extension": ".py",
   "mimetype": "text/x-python",
   "name": "python",
   "nbconvert_exporter": "python",
   "pygments_lexer": "ipython3",
   "version": "3.5.2"
  }
 },
 "nbformat": 4,
 "nbformat_minor": 0
}
