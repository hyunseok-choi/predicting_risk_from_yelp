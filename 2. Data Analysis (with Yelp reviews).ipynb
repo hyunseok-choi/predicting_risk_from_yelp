{
 "cells": [
  {
   "cell_type": "markdown",
   "metadata": {},
   "source": [
    "![Title](https://i.imgur.com/TD4tCAo.png)"
   ]
  },
  {
   "cell_type": "code",
   "execution_count": 1,
   "metadata": {
    "collapsed": true
   },
   "outputs": [],
   "source": [
    "import pandas as pd\n",
    "import numpy as np"
   ]
  },
  {
   "cell_type": "code",
   "execution_count": 2,
   "metadata": {
    "collapsed": false
   },
   "outputs": [],
   "source": [
    "# iy = pd.read_csv('../dataset/iy12th.csv')  # version 1\n",
    "iy = pd.read_csv('../dataset/iy12th2.csv')"
   ]
  },
  {
   "cell_type": "code",
   "execution_count": 3,
   "metadata": {
    "collapsed": false
   },
   "outputs": [
    {
     "data": {
      "text/plain": [
       "Index(['Unnamed: 0', 'Encounter', 'ID', 'Facility Name', 'Bus St Date',\n",
       "       'Description', 'Inspect Dt', 'Low', 'Medium', 'High', 'business_id',\n",
       "       'address', 'price', 'cuisine_Asian Fusion', 'cuisine_Vegetarian',\n",
       "       'cuisine_Chinese', 'cuisine_American (Traditional)', 'cuisine_Italian',\n",
       "       'cuisine_Mexican', 'cuisine_Thai', 'cuisine_others',\n",
       "       'cuisine_American (New)', 'cuisine_Indian', 'cuisine_Japanese',\n",
       "       'cuisine_Greek', 'cuisine_Mediterranean', 'hyg_0', 'hyg_1', 'hyg_2',\n",
       "       'hyg_3', 'hyg_4', 'hyg_5', 'unh_0', 'unh_1', 'unh_2', 'unh_3',\n",
       "       'stars_y', 'count'],\n",
       "      dtype='object')"
      ]
     },
     "execution_count": 3,
     "metadata": {},
     "output_type": "execute_result"
    }
   ],
   "source": [
    "iy.columns"
   ]
  },
  {
   "cell_type": "code",
   "execution_count": 4,
   "metadata": {
    "collapsed": false
   },
   "outputs": [],
   "source": [
    "iy.loc[iy['High']>0, 'isHigh'] = 1\n",
    "iy['isHigh'] = iy['isHigh'].fillna(0)"
   ]
  },
  {
   "cell_type": "code",
   "execution_count": 5,
   "metadata": {
    "collapsed": true
   },
   "outputs": [],
   "source": [
    "# Features and target variable\n",
    "features = ['price', # price level\n",
    "            'cuisine_Asian Fusion', 'cuisine_Vegetarian', 'cuisine_Chinese', # cuisine\n",
    "            'cuisine_American (Traditional)', 'cuisine_Italian', 'cuisine_Mexican',\n",
    "            'cuisine_Thai', 'cuisine_others', 'cuisine_American (New)', 'cuisine_Indian',\n",
    "            'cuisine_Japanese','cuisine_Greek', 'cuisine_Mediterranean', \n",
    "            'hyg_0', 'hyg_1', 'hyg_2','hyg_3', 'hyg_4', 'hyg_5', # dictionary words\n",
    "            'unh_0', 'unh_1', 'unh_2', 'unh_3',\n",
    "            'stars_y', 'count'] # average star ratings and review count\n",
    "target = 'isHigh'"
   ]
  },
  {
   "cell_type": "code",
   "execution_count": 28,
   "metadata": {
    "collapsed": false
   },
   "outputs": [
    {
     "data": {
      "text/plain": [
       "Series([], dtype: int64)"
      ]
     },
     "execution_count": 28,
     "metadata": {},
     "output_type": "execute_result"
    }
   ],
   "source": [
    "# Check columns with missing values\n",
    "pd.isnull(iy).sum()[pd.isnull(iy).sum()>0]"
   ]
  },
  {
   "cell_type": "code",
   "execution_count": 18,
   "metadata": {
    "collapsed": false
   },
   "outputs": [],
   "source": [
    "# Imputation\n",
    "# Fill missing value in stars_y with the average stars_y of the restaurant\n",
    "iy[\"stars_y\"].fillna(iy.groupby(\"ID\")[\"stars_y\"].transform(\"mean\"), inplace=True)"
   ]
  },
  {
   "cell_type": "code",
   "execution_count": 19,
   "metadata": {
    "collapsed": false
   },
   "outputs": [],
   "source": [
    "# Preprocessing and Evaluation\n",
    "from sklearn import preprocessing\n",
    "from sklearn.model_selection import cross_val_score\n",
    "from sklearn.model_selection import train_test_split\n",
    "from sklearn.preprocessing import MinMaxScaler \n",
    "from sklearn.metrics import confusion_matrix, accuracy_score, recall_score, roc_curve, auc\n",
    "\n",
    "# Model\n",
    "from sklearn.linear_model import LogisticRegression\n",
    "from sklearn.tree import DecisionTreeClassifier\n",
    "from sklearn.svm import SVC\n",
    "from sklearn.ensemble import RandomForestClassifier\n",
    "from sklearn.ensemble import AdaBoostClassifier\n",
    "\n",
    "# split the dataset into predictors(X) and target (Y)\n",
    "X = iy[features]\n",
    "Y = iy[target].values.ravel()"
   ]
  },
  {
   "cell_type": "markdown",
   "metadata": {},
   "source": [
    "## 6.A Data split for Cross-validation"
   ]
  },
  {
   "cell_type": "code",
   "execution_count": 20,
   "metadata": {
    "collapsed": false
   },
   "outputs": [],
   "source": [
    "# splitting into three sets\n",
    "X_trainval, X_test, Y_trainval, Y_test = train_test_split(\n",
    "    X, Y, random_state=0)\n",
    "\n",
    "# Feature scaling\n",
    "scaler = MinMaxScaler().fit(X_trainval)\n",
    "X_trainval_scaled = scaler.transform(X_trainval)\n",
    "X_test_scaled = scaler.transform(X_test)\n",
    "\n",
    "X_trainval = X_trainval_scaled\n",
    "X_test = X_test_scaled\n",
    "\n",
    "# Generate report\n",
    "def getReport(report):\n",
    "    report = report.strip().split()\n",
    "    report.remove('avg')\n",
    "    report.remove('/')\n",
    "    report.insert(0, 'class')\n",
    "    report = np.array(report)\n",
    "    report = np.reshape(report, [-1,5])\n",
    "    colname = report[0,:]\n",
    "    report = report[1:,:]\n",
    "    return pd.DataFrame(report, columns=colname)"
   ]
  },
  {
   "cell_type": "code",
   "execution_count": 21,
   "metadata": {
    "collapsed": true
   },
   "outputs": [],
   "source": [
    "acc = [] # list to store all performance metric"
   ]
  },
  {
   "cell_type": "markdown",
   "metadata": {},
   "source": [
    "## 6.B Logistic Regression\n",
    "The parameter C, inverse of regularization strength.\n",
    "\n",
    "Tuning range: [0.001, 0.1, 1, 10, 100]"
   ]
  },
  {
   "cell_type": "code",
   "execution_count": 22,
   "metadata": {
    "collapsed": false
   },
   "outputs": [
    {
     "name": "stdout",
     "output_type": "stream",
     "text": [
      "Best accuracy on validation set is: 0.596975743474\n",
      "Best parameter for regularization (C) is:  100\n",
      "Test accuracy with best C parameter is 0.601049868766\n",
      "Test recall with the best C parameter is 0.391136801541\n",
      "Test AUC with the best C parameter is 0.583388913591\n"
     ]
    }
   ],
   "source": [
    "# Dataset with imputation\n",
    "best_score=0\n",
    "kfolds=5 # set the number of folds\n",
    "\n",
    "for c in [0.001, 0.1, 1, 10, 100]:\n",
    "    logRegModel = LogisticRegression(C=c)\n",
    "    # perform cross-validation\n",
    "    scores = cross_val_score(logRegModel, X_trainval, Y_trainval, cv=kfolds, scoring='accuracy') # Get recall for each parameter setting\n",
    "    \n",
    "    # compute mean cross-validation accuracy\n",
    "    score = np.mean(scores)\n",
    "    \n",
    "    # Find the best parameters and score\n",
    "    if score > best_score:\n",
    "        best_score = score\n",
    "        best_parameters = c\n",
    "\n",
    "# rebuild a model on the combined training and validation set\n",
    "SelectedLogRegModel = LogisticRegression(C=best_parameters).fit(X_trainval_scaled, Y_trainval)\n",
    "\n",
    "test_score = SelectedLogRegModel.score(X_test_scaled, Y_test)\n",
    "PredictedOutput = SelectedLogRegModel.predict(X_test_scaled)\n",
    "test_recall = recall_score(Y_test, PredictedOutput, pos_label=1)\n",
    "fpr, tpr, thresholds = roc_curve(Y_test, PredictedOutput, pos_label=1)\n",
    "test_auc = auc(fpr, tpr)\n",
    "print(\"Best accuracy on validation set is:\", best_score)\n",
    "print(\"Best parameter for regularization (C) is: \", best_parameters)\n",
    "print(\"Test accuracy with best C parameter is\", test_score)\n",
    "print(\"Test recall with the best C parameter is\", test_recall)\n",
    "print(\"Test AUC with the best C parameter is\", test_auc)\n",
    "m = 'Logistic Regression'\n",
    "acc.append([m, test_score, test_recall, test_auc, fpr, tpr, thresholds])"
   ]
  },
  {
   "cell_type": "code",
   "execution_count": 30,
   "metadata": {
    "collapsed": false
   },
   "outputs": [
    {
     "data": {
      "text/plain": [
       "['price',\n",
       " 'cuisine_Asian Fusion',\n",
       " 'cuisine_Vegetarian',\n",
       " 'cuisine_Chinese',\n",
       " 'cuisine_American (Traditional)',\n",
       " 'cuisine_Italian',\n",
       " 'cuisine_Mexican',\n",
       " 'cuisine_Thai',\n",
       " 'cuisine_others',\n",
       " 'cuisine_American (New)',\n",
       " 'cuisine_Indian',\n",
       " 'cuisine_Japanese',\n",
       " 'cuisine_Greek',\n",
       " 'cuisine_Mediterranean',\n",
       " 'hyg_0',\n",
       " 'hyg_1',\n",
       " 'hyg_2',\n",
       " 'hyg_3',\n",
       " 'hyg_4',\n",
       " 'hyg_5',\n",
       " 'unh_0',\n",
       " 'unh_1',\n",
       " 'unh_2',\n",
       " 'unh_3',\n",
       " 'stars_y',\n",
       " 'count']"
      ]
     },
     "execution_count": 30,
     "metadata": {},
     "output_type": "execute_result"
    }
   ],
   "source": [
    "features"
   ]
  },
  {
   "cell_type": "code",
   "execution_count": 57,
   "metadata": {
    "collapsed": false
   },
   "outputs": [
    {
     "data": {
      "text/html": [
       "<div>\n",
       "<style>\n",
       "    .dataframe thead tr:only-child th {\n",
       "        text-align: right;\n",
       "    }\n",
       "\n",
       "    .dataframe thead th {\n",
       "        text-align: left;\n",
       "    }\n",
       "\n",
       "    .dataframe tbody tr th {\n",
       "        vertical-align: top;\n",
       "    }\n",
       "</style>\n",
       "<table border=\"1\" class=\"dataframe\">\n",
       "  <thead>\n",
       "    <tr style=\"text-align: right;\">\n",
       "      <th></th>\n",
       "      <th>0</th>\n",
       "      <th>1</th>\n",
       "    </tr>\n",
       "  </thead>\n",
       "  <tbody>\n",
       "    <tr>\n",
       "      <th>0</th>\n",
       "      <td>price</td>\n",
       "      <td>0.0350687</td>\n",
       "    </tr>\n",
       "    <tr>\n",
       "      <th>1</th>\n",
       "      <td>cuisine_Asian Fusion</td>\n",
       "      <td>-0.353965</td>\n",
       "    </tr>\n",
       "    <tr>\n",
       "      <th>2</th>\n",
       "      <td>cuisine_Vegetarian</td>\n",
       "      <td>0.317492</td>\n",
       "    </tr>\n",
       "    <tr>\n",
       "      <th>3</th>\n",
       "      <td>cuisine_Chinese</td>\n",
       "      <td>0.612199</td>\n",
       "    </tr>\n",
       "    <tr>\n",
       "      <th>4</th>\n",
       "      <td>cuisine_American (Traditional)</td>\n",
       "      <td>0.452651</td>\n",
       "    </tr>\n",
       "    <tr>\n",
       "      <th>5</th>\n",
       "      <td>cuisine_Italian</td>\n",
       "      <td>0.157447</td>\n",
       "    </tr>\n",
       "    <tr>\n",
       "      <th>6</th>\n",
       "      <td>cuisine_Mexican</td>\n",
       "      <td>0.334268</td>\n",
       "    </tr>\n",
       "    <tr>\n",
       "      <th>7</th>\n",
       "      <td>cuisine_Thai</td>\n",
       "      <td>0.357325</td>\n",
       "    </tr>\n",
       "    <tr>\n",
       "      <th>8</th>\n",
       "      <td>cuisine_others</td>\n",
       "      <td>-0.0471272</td>\n",
       "    </tr>\n",
       "    <tr>\n",
       "      <th>9</th>\n",
       "      <td>cuisine_American (New)</td>\n",
       "      <td>0.281341</td>\n",
       "    </tr>\n",
       "    <tr>\n",
       "      <th>10</th>\n",
       "      <td>cuisine_Indian</td>\n",
       "      <td>0.461587</td>\n",
       "    </tr>\n",
       "    <tr>\n",
       "      <th>11</th>\n",
       "      <td>cuisine_Japanese</td>\n",
       "      <td>0.538144</td>\n",
       "    </tr>\n",
       "    <tr>\n",
       "      <th>12</th>\n",
       "      <td>cuisine_Greek</td>\n",
       "      <td>0.0736591</td>\n",
       "    </tr>\n",
       "    <tr>\n",
       "      <th>13</th>\n",
       "      <td>cuisine_Mediterranean</td>\n",
       "      <td>-0.498791</td>\n",
       "    </tr>\n",
       "    <tr>\n",
       "      <th>14</th>\n",
       "      <td>hyg_0</td>\n",
       "      <td>0.524896</td>\n",
       "    </tr>\n",
       "    <tr>\n",
       "      <th>15</th>\n",
       "      <td>hyg_1</td>\n",
       "      <td>0.00475121</td>\n",
       "    </tr>\n",
       "    <tr>\n",
       "      <th>16</th>\n",
       "      <td>hyg_2</td>\n",
       "      <td>0.358236</td>\n",
       "    </tr>\n",
       "    <tr>\n",
       "      <th>17</th>\n",
       "      <td>hyg_3</td>\n",
       "      <td>0.324815</td>\n",
       "    </tr>\n",
       "    <tr>\n",
       "      <th>18</th>\n",
       "      <td>hyg_4</td>\n",
       "      <td>0.533192</td>\n",
       "    </tr>\n",
       "    <tr>\n",
       "      <th>19</th>\n",
       "      <td>hyg_5</td>\n",
       "      <td>-0.415831</td>\n",
       "    </tr>\n",
       "    <tr>\n",
       "      <th>20</th>\n",
       "      <td>unh_0</td>\n",
       "      <td>-0.0898272</td>\n",
       "    </tr>\n",
       "    <tr>\n",
       "      <th>21</th>\n",
       "      <td>unh_1</td>\n",
       "      <td>0.186882</td>\n",
       "    </tr>\n",
       "    <tr>\n",
       "      <th>22</th>\n",
       "      <td>unh_2</td>\n",
       "      <td>-0.250538</td>\n",
       "    </tr>\n",
       "    <tr>\n",
       "      <th>23</th>\n",
       "      <td>unh_3</td>\n",
       "      <td>0.0836199</td>\n",
       "    </tr>\n",
       "    <tr>\n",
       "      <th>24</th>\n",
       "      <td>stars_y</td>\n",
       "      <td>-1.22695</td>\n",
       "    </tr>\n",
       "    <tr>\n",
       "      <th>25</th>\n",
       "      <td>count</td>\n",
       "      <td>3.70304</td>\n",
       "    </tr>\n",
       "  </tbody>\n",
       "</table>\n",
       "</div>"
      ],
      "text/plain": [
       "                                 0           1\n",
       "0                            price   0.0350687\n",
       "1             cuisine_Asian Fusion   -0.353965\n",
       "2               cuisine_Vegetarian    0.317492\n",
       "3                  cuisine_Chinese    0.612199\n",
       "4   cuisine_American (Traditional)    0.452651\n",
       "5                  cuisine_Italian    0.157447\n",
       "6                  cuisine_Mexican    0.334268\n",
       "7                     cuisine_Thai    0.357325\n",
       "8                   cuisine_others  -0.0471272\n",
       "9           cuisine_American (New)    0.281341\n",
       "10                  cuisine_Indian    0.461587\n",
       "11                cuisine_Japanese    0.538144\n",
       "12                   cuisine_Greek   0.0736591\n",
       "13           cuisine_Mediterranean   -0.498791\n",
       "14                           hyg_0    0.524896\n",
       "15                           hyg_1  0.00475121\n",
       "16                           hyg_2    0.358236\n",
       "17                           hyg_3    0.324815\n",
       "18                           hyg_4    0.533192\n",
       "19                           hyg_5   -0.415831\n",
       "20                           unh_0  -0.0898272\n",
       "21                           unh_1    0.186882\n",
       "22                           unh_2   -0.250538\n",
       "23                           unh_3   0.0836199\n",
       "24                         stars_y    -1.22695\n",
       "25                           count     3.70304"
      ]
     },
     "execution_count": 57,
     "metadata": {},
     "output_type": "execute_result"
    }
   ],
   "source": [
    "pd.DataFrame([features, SelectedLogRegModel.coef_.tolist()[0]]).T"
   ]
  },
  {
   "cell_type": "markdown",
   "metadata": {},
   "source": [
    "## 6.C SVM\n",
    "C: Penalty parameter C of the error term.\n",
    "\n",
    "gamma: kernel coefficient. \n",
    "\n",
    "kernel: kernel type. "
   ]
  },
  {
   "cell_type": "code",
   "execution_count": 23,
   "metadata": {
    "collapsed": false,
    "scrolled": true
   },
   "outputs": [
    {
     "name": "stdout",
     "output_type": "stream",
     "text": [
      "0.001 0.001 rbf\n",
      "0.001 0.1 rbf\n",
      "0.001 10 rbf\n",
      "0.001 100 rbf\n",
      "0.1 0.001 rbf\n",
      "0.1 0.1 rbf\n",
      "0.1 10 rbf\n",
      "0.1 100 rbf\n",
      "10 0.001 rbf\n",
      "10 0.1 rbf\n",
      "10 10 rbf\n",
      "10 100 rbf\n",
      "100 0.001 rbf\n",
      "100 0.1 rbf\n",
      "100 10 rbf\n",
      "100 100 rbf\n",
      "Best accuracy on cross validation set is: 0.596974893486\n",
      "Best parameter for c is:  10\n",
      "Best parameter for gamma is:  0.1\n",
      "Best parameter for kernel is:  rbf\n",
      "Test accuracy with the best parameters is 0.570428696413\n",
      "Test recall with the best parameters is 0.337186897881\n",
      "Test recall with the best parameter is 0.550804987402\n"
     ]
    }
   ],
   "source": [
    "best_score = 0\n",
    "\n",
    "for c_paramter in [0.001, 0.1, 10, 100]: #iterate over the values we need to try for the parameter C\n",
    "    for gamma_paramter in [0.001, 0.1, 10, 100]: #iterate over the values we need to try for the parameter gamma\n",
    "        for k_parameter in ['rbf']: # iterate over the values we need to try for the kernel parameter\n",
    "            print(c_paramter, gamma_paramter, k_parameter)\n",
    "            svmModel = SVC(kernel=k_parameter, C=c_paramter, gamma=gamma_paramter) #define the model\n",
    "            # perform cross-validation\n",
    "            scores = cross_val_score(svmModel, X_trainval_scaled, Y_trainval, cv=kfolds, scoring='accuracy')\n",
    "            # the training set will be split internally into training and cross validation\n",
    "\n",
    "            # compute mean cross-validation accuracy\n",
    "            score = np.mean(scores)\n",
    "            # if we got a better score, store the score and parameters\n",
    "            if score > best_score:\n",
    "                best_score = score #store the score \n",
    "                best_parameter_c = c_paramter #store the parameter c\n",
    "                best_parameter_gamma = gamma_paramter #store the parameter gamma\n",
    "                best_parameter_k = k_parameter\n",
    "            \n",
    "\n",
    "# rebuild a model with best parameters to get score \n",
    "SelectedSVMmodel = SVC(C=best_parameter_c, gamma=best_parameter_gamma, kernel=best_parameter_k).fit(X_trainval_scaled, Y_trainval)\n",
    "\n",
    "test_score = SelectedSVMmodel.score(X_test_scaled, Y_test)\n",
    "PredictedOutput = SelectedSVMmodel.predict(X_test_scaled)\n",
    "test_recall = recall_score(Y_test, PredictedOutput, pos_label=1)\n",
    "fpr, tpr, thresholds = roc_curve(Y_test, PredictedOutput, pos_label=1)\n",
    "test_auc = auc(fpr, tpr)\n",
    "print(\"Best accuracy on cross validation set is:\", best_score)\n",
    "print(\"Best parameter for c is: \", best_parameter_c)\n",
    "print(\"Best parameter for gamma is: \", best_parameter_gamma)\n",
    "print(\"Best parameter for kernel is: \", best_parameter_k)\n",
    "print(\"Test accuracy with the best parameters is\", test_score)\n",
    "print(\"Test recall with the best parameters is\", test_recall)\n",
    "print(\"Test recall with the best parameter is\", test_auc)\n",
    "\n",
    "m = 'SVM'\n",
    "acc.append([m, test_score, test_recall, test_auc, fpr, tpr, thresholds])"
   ]
  },
  {
   "cell_type": "markdown",
   "metadata": {},
   "source": [
    "## 6.D Decision Tree\n",
    "Maximum depth. [1, 2, ..., 5]\n"
   ]
  },
  {
   "cell_type": "code",
   "execution_count": 24,
   "metadata": {
    "collapsed": false
   },
   "outputs": [
    {
     "name": "stdout",
     "output_type": "stream",
     "text": [
      "Best accuracy on validation set is: 0.587069985869\n",
      "Best parameter for the maximum depth is:  3\n",
      "Test accuracy with best parameter is  0.570428696413\n",
      "Test recall with best parameters is  0.169556840077\n",
      "Test AUC with the best parameter is  0.536701496962\n"
     ]
    }
   ],
   "source": [
    "best_score = 0\n",
    "\n",
    "for md in range(1, 6): # iterate different maximum depth values\n",
    "    # train the model\n",
    "    treeModel = DecisionTreeClassifier(random_state=0, max_depth=md, criterion='gini')\n",
    "    # perform cross-validation\n",
    "    scores = cross_val_score(treeModel, X_trainval_scaled, Y_trainval, cv=kfolds, scoring='accuracy')\n",
    "    \n",
    "    # compute mean cross-validation accuracy\n",
    "    score = np.mean(scores)\n",
    "    \n",
    "    # if we got a better score, store the score and parameters\n",
    "    if score > best_score:\n",
    "        best_score = score\n",
    "        best_parameter = md\n",
    "\n",
    "# Rebuild a model on the combined training and validation set        \n",
    "SelectedDTModel = DecisionTreeClassifier(max_depth=best_parameter).fit(X_trainval_scaled, Y_trainval )\n",
    "\n",
    "test_score = SelectedDTModel.score(X_test_scaled, Y_test)\n",
    "PredictedOutput = SelectedDTModel.predict(X_test_scaled)\n",
    "test_recall = recall_score(Y_test, PredictedOutput, pos_label=1)\n",
    "fpr, tpr, thresholds = roc_curve(Y_test, PredictedOutput, pos_label=1)\n",
    "test_auc = auc(fpr, tpr)\n",
    "print(\"Best accuracy on validation set is:\", best_score)\n",
    "print(\"Best parameter for the maximum depth is: \", best_parameter)\n",
    "print(\"Test accuracy with best parameter is \", test_score)\n",
    "print(\"Test recall with best parameters is \", test_recall)\n",
    "print(\"Test AUC with the best parameter is \", test_auc)\n",
    "\n",
    "m = 'Decision Tree'\n",
    "acc.append([m, test_score, test_recall, test_auc, fpr, tpr, thresholds])"
   ]
  },
  {
   "cell_type": "markdown",
   "metadata": {},
   "source": [
    "## 6.E Random Forest Classifier\n",
    "n_estimators(M): the number of trees in the forest\n",
    "\n",
    "max_features(d): the number of features to consider when looking for the best split\n",
    "\n",
    "max_depth(m): the maximum depth of the tree. "
   ]
  },
  {
   "cell_type": "code",
   "execution_count": 25,
   "metadata": {
    "collapsed": false
   },
   "outputs": [
    {
     "name": "stdout",
     "output_type": "stream",
     "text": [
      "Best accuracy on validation set is: 0.599892051552\n",
      "Best parameters of M, d, m are:  28 3 4\n",
      "Test accuracy with the best parameters is 0.594925634296\n",
      "Test recall with the best parameters is: 0.306358381503\n",
      "Test AUC with the best parameters is: 0.570647139469\n"
     ]
    }
   ],
   "source": [
    "best_score = 0\n",
    "\n",
    "for M in range(2, 30, 2): # combines M trees\n",
    "    for d in range(1, 5): # maximum number of features considered at each split\n",
    "        for m in range(1, 5): # maximum depth of the tree\n",
    "            # train the model\n",
    "            # n_jobs(4) is the number of parallel computing\n",
    "            forestModel = RandomForestClassifier(n_estimators=M, max_features=d, n_jobs=-1,\n",
    "                                          max_depth=m, random_state=0)\n",
    "        \n",
    "            # perform cross-validation\n",
    "            scores = cross_val_score(forestModel, X_trainval_scaled, Y_trainval, cv=kfolds, scoring='accuracy')\n",
    "\n",
    "            # compute mean cross-validation accuracy\n",
    "            score = np.mean(scores)\n",
    "\n",
    "            # if we got a better score, store the score and parameters\n",
    "            if score > best_score:\n",
    "                best_score = score\n",
    "                best_M = M\n",
    "                best_d = d\n",
    "                best_m = m\n",
    "\n",
    "# Rebuild a model on the combined training and validation set        \n",
    "SelectedRFModel = RandomForestClassifier(n_estimators=M, max_features=d,\n",
    "                                          max_depth=m, random_state=0).fit(X_trainval_scaled, Y_trainval )\n",
    "\n",
    "PredictedOutput = SelectedRFModel.predict(X_test_scaled)\n",
    "test_score = SelectedRFModel.score(X_test_scaled, Y_test)\n",
    "test_recall = recall_score(Y_test, PredictedOutput, pos_label=1)\n",
    "fpr, tpr, thresholds = roc_curve(Y_test, PredictedOutput, pos_label=1)\n",
    "test_auc = auc(fpr, tpr)\n",
    "print(\"Best accuracy on validation set is:\", best_score)\n",
    "print(\"Best parameters of M, d, m are: \", best_M, best_d, best_m)\n",
    "print(\"Test accuracy with the best parameters is\", test_score)\n",
    "print(\"Test recall with the best parameters is:\", test_recall)\n",
    "print(\"Test AUC with the best parameters is:\", test_auc)\n",
    "\n",
    "m = 'Random Forest'\n",
    "acc.append([m, test_score, test_recall, test_auc, fpr, tpr, thresholds])"
   ]
  },
  {
   "cell_type": "markdown",
   "metadata": {},
   "source": [
    "## 6.F AdaBoost"
   ]
  },
  {
   "cell_type": "code",
   "execution_count": 26,
   "metadata": {
    "collapsed": false,
    "scrolled": false
   },
   "outputs": [
    {
     "name": "stdout",
     "output_type": "stream",
     "text": [
      "Best accuracy on validation set is: 0.591437648084\n",
      "Best parameter of M is:  14\n",
      "best parameter of LR is:  1\n",
      "Test accuracy with the best parameter is 0.594925634296\n",
      "Test recall with the best parameters is: 0.431599229287\n",
      "Test AUC with the best parameters is: 0.581184230028\n"
     ]
    }
   ],
   "source": [
    "best_score = 0\n",
    "\n",
    "for M in range(2, 30, 2): # combines M trees\n",
    "    for lr in [0.001, 0.01, 0.1, 1]:\n",
    "        # train the model\n",
    "        boostModel = AdaBoostClassifier(n_estimators=M, learning_rate=lr, random_state=0)\n",
    "\n",
    "        # perform cross-validation\n",
    "        scores = cross_val_score(boostModel, X_trainval_scaled, Y_trainval, cv=kfolds, scoring='accuracy')\n",
    "\n",
    "        # compute mean cross-validation accuracy\n",
    "        score = np.mean(scores)\n",
    "\n",
    "        # if we got a better score, store the score and parameters\n",
    "        if score > best_score:\n",
    "            best_score = score\n",
    "            best_M = M\n",
    "            best_lr = lr\n",
    "\n",
    "# Rebuild a model on the combined training and validation set        \n",
    "SelectedBoostModel = AdaBoostClassifier(n_estimators=M, learning_rate=lr, random_state=0).fit(X_trainval_scaled, Y_trainval )\n",
    "\n",
    "PredictedOutput = SelectedBoostModel.predict(X_test_scaled)\n",
    "test_score = SelectedRFModel.score(X_test_scaled, Y_test)\n",
    "test_recall = recall_score(Y_test, PredictedOutput, pos_label=1)\n",
    "fpr, tpr, thresholds = roc_curve(Y_test, PredictedOutput, pos_label=1)\n",
    "test_auc = auc(fpr, tpr)\n",
    "print(\"Best accuracy on validation set is:\", best_score)\n",
    "print(\"Best parameter of M is: \", best_M)\n",
    "print(\"best parameter of LR is: \", best_lr)\n",
    "print(\"Test accuracy with the best parameter is\", test_score)\n",
    "print(\"Test recall with the best parameters is:\", test_recall)\n",
    "print(\"Test AUC with the best parameters is:\", test_auc)\n",
    "\n",
    "m = 'AdaBoost'\n",
    "acc.append([m, test_score, test_recall, test_auc, fpr, tpr, thresholds])"
   ]
  },
  {
   "cell_type": "markdown",
   "metadata": {},
   "source": [
    "## Results"
   ]
  },
  {
   "cell_type": "code",
   "execution_count": 27,
   "metadata": {
    "collapsed": false,
    "scrolled": true
   },
   "outputs": [
    {
     "data": {
      "text/html": [
       "<div>\n",
       "<style>\n",
       "    .dataframe thead tr:only-child th {\n",
       "        text-align: right;\n",
       "    }\n",
       "\n",
       "    .dataframe thead th {\n",
       "        text-align: left;\n",
       "    }\n",
       "\n",
       "    .dataframe tbody tr th {\n",
       "        vertical-align: top;\n",
       "    }\n",
       "</style>\n",
       "<table border=\"1\" class=\"dataframe\">\n",
       "  <thead>\n",
       "    <tr style=\"text-align: right;\">\n",
       "      <th></th>\n",
       "      <th>Model</th>\n",
       "      <th>Accuracy</th>\n",
       "      <th>Recall</th>\n",
       "      <th>AUC</th>\n",
       "    </tr>\n",
       "  </thead>\n",
       "  <tbody>\n",
       "    <tr>\n",
       "      <th>0</th>\n",
       "      <td>Logistic Regression</td>\n",
       "      <td>0.601050</td>\n",
       "      <td>0.391137</td>\n",
       "      <td>0.583389</td>\n",
       "    </tr>\n",
       "    <tr>\n",
       "      <th>1</th>\n",
       "      <td>SVM</td>\n",
       "      <td>0.570429</td>\n",
       "      <td>0.337187</td>\n",
       "      <td>0.550805</td>\n",
       "    </tr>\n",
       "    <tr>\n",
       "      <th>2</th>\n",
       "      <td>Decision Tree</td>\n",
       "      <td>0.570429</td>\n",
       "      <td>0.169557</td>\n",
       "      <td>0.536701</td>\n",
       "    </tr>\n",
       "    <tr>\n",
       "      <th>3</th>\n",
       "      <td>Random Forest</td>\n",
       "      <td>0.594926</td>\n",
       "      <td>0.306358</td>\n",
       "      <td>0.570647</td>\n",
       "    </tr>\n",
       "    <tr>\n",
       "      <th>4</th>\n",
       "      <td>AdaBoost</td>\n",
       "      <td>0.594926</td>\n",
       "      <td>0.431599</td>\n",
       "      <td>0.581184</td>\n",
       "    </tr>\n",
       "  </tbody>\n",
       "</table>\n",
       "</div>"
      ],
      "text/plain": [
       "                 Model  Accuracy    Recall       AUC\n",
       "0  Logistic Regression  0.601050  0.391137  0.583389\n",
       "1                  SVM  0.570429  0.337187  0.550805\n",
       "2        Decision Tree  0.570429  0.169557  0.536701\n",
       "3        Random Forest  0.594926  0.306358  0.570647\n",
       "4             AdaBoost  0.594926  0.431599  0.581184"
      ]
     },
     "execution_count": 27,
     "metadata": {},
     "output_type": "execute_result"
    }
   ],
   "source": [
    "result = pd.DataFrame(acc, columns=['Model', 'Accuracy', 'Recall', 'AUC', 'TPR', 'FPR', 'TH'])\n",
    "result[['Model', 'Accuracy', 'Recall', 'AUC']]"
   ]
  },
  {
   "cell_type": "markdown",
   "metadata": {},
   "source": [
    "## Previous Results (Version 1 model)\n",
    "Version 1 doesn't have price level, cuisine, hygenic words features."
   ]
  },
  {
   "cell_type": "code",
   "execution_count": 14,
   "metadata": {
    "collapsed": false,
    "scrolled": true
   },
   "outputs": [
    {
     "data": {
      "text/html": [
       "<div>\n",
       "<style>\n",
       "    .dataframe thead tr:only-child th {\n",
       "        text-align: right;\n",
       "    }\n",
       "\n",
       "    .dataframe thead th {\n",
       "        text-align: left;\n",
       "    }\n",
       "\n",
       "    .dataframe tbody tr th {\n",
       "        vertical-align: top;\n",
       "    }\n",
       "</style>\n",
       "<table border=\"1\" class=\"dataframe\">\n",
       "  <thead>\n",
       "    <tr style=\"text-align: right;\">\n",
       "      <th></th>\n",
       "      <th>Model</th>\n",
       "      <th>Accuracy</th>\n",
       "      <th>Recall</th>\n",
       "      <th>AUC</th>\n",
       "    </tr>\n",
       "  </thead>\n",
       "  <tbody>\n",
       "    <tr>\n",
       "      <th>0</th>\n",
       "      <td>Logistic Regression</td>\n",
       "      <td>0.580991</td>\n",
       "      <td>0.552113</td>\n",
       "      <td>0.579628</td>\n",
       "    </tr>\n",
       "    <tr>\n",
       "      <th>1</th>\n",
       "      <td>SVM</td>\n",
       "      <td>0.578313</td>\n",
       "      <td>0.484507</td>\n",
       "      <td>0.573886</td>\n",
       "    </tr>\n",
       "    <tr>\n",
       "      <th>2</th>\n",
       "      <td>Decision Tree</td>\n",
       "      <td>0.572959</td>\n",
       "      <td>0.450704</td>\n",
       "      <td>0.567189</td>\n",
       "    </tr>\n",
       "    <tr>\n",
       "      <th>3</th>\n",
       "      <td>Random Forest</td>\n",
       "      <td>0.576975</td>\n",
       "      <td>0.478873</td>\n",
       "      <td>0.572345</td>\n",
       "    </tr>\n",
       "    <tr>\n",
       "      <th>4</th>\n",
       "      <td>AdaBoost</td>\n",
       "      <td>0.576975</td>\n",
       "      <td>0.538028</td>\n",
       "      <td>0.567483</td>\n",
       "    </tr>\n",
       "  </tbody>\n",
       "</table>\n",
       "</div>"
      ],
      "text/plain": [
       "                 Model  Accuracy    Recall       AUC\n",
       "0  Logistic Regression  0.580991  0.552113  0.579628\n",
       "1                  SVM  0.578313  0.484507  0.573886\n",
       "2        Decision Tree  0.572959  0.450704  0.567189\n",
       "3        Random Forest  0.576975  0.478873  0.572345\n",
       "4             AdaBoost  0.576975  0.538028  0.567483"
      ]
     },
     "execution_count": 14,
     "metadata": {},
     "output_type": "execute_result"
    }
   ],
   "source": [
    "# Performance of the version 1 model\n",
    "result = pd.DataFrame(acc, columns=['Model', 'Accuracy', 'Recall', 'AUC', 'TPR', 'FPR', 'TH'])\n",
    "result[['Model', 'Accuracy', 'Recall', 'AUC']]"
   ]
  },
  {
   "cell_type": "markdown",
   "metadata": {
    "collapsed": true
   },
   "source": [
    "## Comment\n",
    "This model can be improved with several ways.\n",
    "- Use historical value of the \n",
    "- Dimension reduction\n",
    "- Using only unhygine dictionary words (Feature Selection)\n",
    "- Applying word2vec to Yelp review and tips data\n"
   ]
  }
 ],
 "metadata": {
  "anaconda-cloud": {},
  "kernelspec": {
   "display_name": "Python [Root]",
   "language": "python",
   "name": "Python [Root]"
  },
  "language_info": {
   "codemirror_mode": {
    "name": "ipython",
    "version": 3
   },
   "file_extension": ".py",
   "mimetype": "text/x-python",
   "name": "python",
   "nbconvert_exporter": "python",
   "pygments_lexer": "ipython3",
   "version": "3.5.2"
  }
 },
 "nbformat": 4,
 "nbformat_minor": 2
}
