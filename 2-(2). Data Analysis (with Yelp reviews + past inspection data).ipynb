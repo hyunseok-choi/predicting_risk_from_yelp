{
 "cells": [
  {
   "cell_type": "markdown",
   "metadata": {},
   "source": [
    "![Title](https://i.imgur.com/TD4tCAo.png)"
   ]
  },
  {
   "cell_type": "code",
   "execution_count": 1,
   "metadata": {
    "collapsed": true
   },
   "outputs": [],
   "source": [
    "import pandas as pd\n",
    "import numpy as np"
   ]
  },
  {
   "cell_type": "code",
   "execution_count": 2,
   "metadata": {
    "collapsed": false
   },
   "outputs": [],
   "source": [
    "iy = pd.read_csv('../dataset/dmtg.csv')"
   ]
  },
  {
   "cell_type": "code",
   "execution_count": 3,
   "metadata": {
    "collapsed": false
   },
   "outputs": [
    {
     "data": {
      "text/plain": [
       "Index(['Unnamed: 0', 'Encounter', 'ID', 'Facility Name', 'Bus St Date',\n",
       "       'Description', 'Inspect Dt_x', 'Low_x', 'Medium_x', 'High_x',\n",
       "       'business_id', 'address', 'price', 'cuisine_Asian Fusion',\n",
       "       'cuisine_Vegetarian', 'cuisine_Chinese',\n",
       "       'cuisine_American (Traditional)', 'cuisine_Italian', 'cuisine_Mexican',\n",
       "       'cuisine_Thai', 'cuisine_others', 'cuisine_American (New)',\n",
       "       'cuisine_Indian', 'cuisine_Japanese', 'cuisine_Greek',\n",
       "       'cuisine_Mediterranean', 'hyg_0', 'hyg_1', 'hyg_2', 'hyg_3', 'hyg_4',\n",
       "       'hyg_5', 'unh_0', 'unh_1', 'unh_2', 'unh_3', 'stars_y', 'count',\n",
       "       'Low_y', 'Medium_y', 'High_y'],\n",
       "      dtype='object')"
      ]
     },
     "execution_count": 3,
     "metadata": {},
     "output_type": "execute_result"
    }
   ],
   "source": [
    "iy.columns"
   ]
  },
  {
   "cell_type": "code",
   "execution_count": 4,
   "metadata": {
    "collapsed": true
   },
   "outputs": [],
   "source": [
    "iy.loc[iy['High_x']>0, 'isHigh'] = 1\n",
    "iy['isHigh'] = iy['isHigh'].fillna(0)"
   ]
  },
  {
   "cell_type": "code",
   "execution_count": 5,
   "metadata": {
    "collapsed": false
   },
   "outputs": [
    {
     "data": {
      "text/plain": [
       "805"
      ]
     },
     "execution_count": 5,
     "metadata": {},
     "output_type": "execute_result"
    }
   ],
   "source": [
    "iy['ID'].unique().shape[0] # In the previous version, this number is 1243"
   ]
  },
  {
   "cell_type": "code",
   "execution_count": 6,
   "metadata": {
    "collapsed": false
   },
   "outputs": [
    {
     "data": {
      "text/plain": [
       "1.0    1293\n",
       "0.0    1010\n",
       "Name: isHigh, dtype: int64"
      ]
     },
     "execution_count": 6,
     "metadata": {},
     "output_type": "execute_result"
    }
   ],
   "source": [
    "iy['isHigh'].value_counts()"
   ]
  },
  {
   "cell_type": "code",
   "execution_count": 7,
   "metadata": {
    "collapsed": true
   },
   "outputs": [],
   "source": [
    "# Features and target variable\n",
    "features = ['price', # price level\n",
    "            'cuisine_Asian Fusion', 'cuisine_Vegetarian', 'cuisine_Chinese', # cuisine\n",
    "            'cuisine_American (Traditional)', 'cuisine_Italian', 'cuisine_Mexican',\n",
    "            'cuisine_Thai', 'cuisine_others', 'cuisine_American (New)', 'cuisine_Indian',\n",
    "            'cuisine_Japanese','cuisine_Greek', 'cuisine_Mediterranean', \n",
    "            'hyg_0', 'hyg_1', 'hyg_2','hyg_3', 'hyg_4', 'hyg_5', # dictionary words\n",
    "            'unh_0', 'unh_1', 'unh_2', 'unh_3',\n",
    "            'stars_y', 'count', # average star ratings and review count\n",
    "            'Low_y', 'Medium_y', 'High_y'] # \n",
    "target = 'isHigh'"
   ]
  },
  {
   "cell_type": "code",
   "execution_count": 8,
   "metadata": {
    "collapsed": false
   },
   "outputs": [
    {
     "data": {
      "text/plain": [
       "Series([], dtype: int64)"
      ]
     },
     "execution_count": 8,
     "metadata": {},
     "output_type": "execute_result"
    }
   ],
   "source": [
    "# Check columns with missing values\n",
    "pd.isnull(iy).sum()[pd.isnull(iy).sum()>0]"
   ]
  },
  {
   "cell_type": "code",
   "execution_count": 9,
   "metadata": {
    "collapsed": true
   },
   "outputs": [],
   "source": [
    "# Imputation\n",
    "## Imputation is not needed because there is no missig value in the dataset"
   ]
  },
  {
   "cell_type": "code",
   "execution_count": 10,
   "metadata": {
    "collapsed": true
   },
   "outputs": [],
   "source": [
    "# Preprocessing and Evaluation\n",
    "from sklearn import preprocessing\n",
    "from sklearn.model_selection import cross_val_score\n",
    "from sklearn.model_selection import train_test_split\n",
    "from sklearn.preprocessing import MinMaxScaler \n",
    "from sklearn.metrics import confusion_matrix, accuracy_score, recall_score, roc_curve, auc\n",
    "\n",
    "# Model\n",
    "from sklearn.linear_model import LogisticRegression\n",
    "from sklearn.tree import DecisionTreeClassifier\n",
    "from sklearn.svm import SVC\n",
    "from sklearn.ensemble import RandomForestClassifier\n",
    "from sklearn.ensemble import AdaBoostClassifier\n",
    "\n",
    "# split the dataset into predictors(X) and target (Y)\n",
    "X = iy[features]\n",
    "Y = iy[target].values.ravel()"
   ]
  },
  {
   "cell_type": "markdown",
   "metadata": {},
   "source": [
    "## 0) Data split for Cross-validation"
   ]
  },
  {
   "cell_type": "code",
   "execution_count": 11,
   "metadata": {
    "collapsed": true
   },
   "outputs": [],
   "source": [
    "# splitting into three sets\n",
    "X_trainval, X_test, Y_trainval, Y_test = train_test_split(\n",
    "    X, Y, random_state=0)\n",
    "\n",
    "# Feature scaling\n",
    "scaler = MinMaxScaler().fit(X_trainval)\n",
    "X_trainval_scaled = scaler.transform(X_trainval)\n",
    "X_test_scaled = scaler.transform(X_test)\n",
    "\n",
    "# Generate report\n",
    "def getReport(report):\n",
    "    report = report.strip().split()\n",
    "    report.remove('avg')\n",
    "    report.remove('/')\n",
    "    report.insert(0, 'class')\n",
    "    report = np.array(report)\n",
    "    report = np.reshape(report, [-1,5])\n",
    "    colname = report[0,:]\n",
    "    report = report[1:,:]\n",
    "    return pd.DataFrame(report, columns=colname)"
   ]
  },
  {
   "cell_type": "code",
   "execution_count": 12,
   "metadata": {
    "collapsed": true
   },
   "outputs": [],
   "source": [
    "acc = [] # list to store all performance metric"
   ]
  },
  {
   "cell_type": "markdown",
   "metadata": {},
   "source": [
    "## A) Logistic Regression\n",
    "The parameter C, inverse of regularization strength.\n",
    "\n",
    "Tuning range: [0.001, 0.1, 1, 10, 100]"
   ]
  },
  {
   "cell_type": "code",
   "execution_count": 13,
   "metadata": {
    "collapsed": false
   },
   "outputs": [
    {
     "name": "stdout",
     "output_type": "stream",
     "text": [
      "Best accuracy on validation set is: 0.695976181153\n",
      "Best parameter for regularization (C) is:  1\n",
      "Test accuracy with best C parameter is 0.664930555556\n",
      "Test recall with the best C parameter is 0.687878787879\n",
      "Test AUC with the best C parameter is 0.661012564671\n"
     ]
    }
   ],
   "source": [
    "# Dataset with imputation\n",
    "best_score=0\n",
    "kfolds=5 # set the number of folds\n",
    "\n",
    "for c in [0.001, 0.1, 1, 10, 100]:\n",
    "    logRegModel = LogisticRegression(C=c)\n",
    "    # perform cross-validation\n",
    "    scores = cross_val_score(logRegModel, X_trainval_scaled, Y_trainval, cv=kfolds, scoring='accuracy') # Get recall for each parameter setting\n",
    "    \n",
    "    # compute mean cross-validation accuracy\n",
    "    score = np.mean(scores)\n",
    "    \n",
    "    # Find the best parameters and score\n",
    "    if score > best_score:\n",
    "        best_score = score\n",
    "        best_parameters = c\n",
    "\n",
    "# rebuild a model on the combined training and validation set\n",
    "SelectedLogRegModel = LogisticRegression(C=best_parameters).fit(X_trainval_scaled, Y_trainval)\n",
    "\n",
    "test_score = SelectedLogRegModel.score(X_test_scaled, Y_test)\n",
    "PredictedOutput = SelectedLogRegModel.predict(X_test_scaled)\n",
    "test_recall = recall_score(Y_test, PredictedOutput, pos_label=1)\n",
    "fpr, tpr, thresholds = roc_curve(Y_test, PredictedOutput, pos_label=1)\n",
    "test_auc = auc(fpr, tpr)\n",
    "print(\"Best accuracy on validation set is:\", best_score)\n",
    "print(\"Best parameter for regularization (C) is: \", best_parameters)\n",
    "print(\"Test accuracy with best C parameter is\", test_score)\n",
    "print(\"Test recall with the best C parameter is\", test_recall)\n",
    "print(\"Test AUC with the best C parameter is\", test_auc)\n",
    "m = 'Logistic Regression'\n",
    "acc.append([m, test_score, test_recall, test_auc, fpr, tpr, thresholds])"
   ]
  },
  {
   "cell_type": "code",
   "execution_count": 14,
   "metadata": {
    "collapsed": false
   },
   "outputs": [
    {
     "data": {
      "text/html": [
       "<div>\n",
       "<style>\n",
       "    .dataframe thead tr:only-child th {\n",
       "        text-align: right;\n",
       "    }\n",
       "\n",
       "    .dataframe thead th {\n",
       "        text-align: left;\n",
       "    }\n",
       "\n",
       "    .dataframe tbody tr th {\n",
       "        vertical-align: top;\n",
       "    }\n",
       "</style>\n",
       "<table border=\"1\" class=\"dataframe\">\n",
       "  <thead>\n",
       "    <tr style=\"text-align: right;\">\n",
       "      <th></th>\n",
       "      <th>0</th>\n",
       "      <th>1</th>\n",
       "    </tr>\n",
       "  </thead>\n",
       "  <tbody>\n",
       "    <tr>\n",
       "      <th>0</th>\n",
       "      <td>price</td>\n",
       "      <td>0.231729</td>\n",
       "    </tr>\n",
       "    <tr>\n",
       "      <th>1</th>\n",
       "      <td>cuisine_Asian Fusion</td>\n",
       "      <td>0.0507491</td>\n",
       "    </tr>\n",
       "    <tr>\n",
       "      <th>2</th>\n",
       "      <td>cuisine_Vegetarian</td>\n",
       "      <td>-0.163093</td>\n",
       "    </tr>\n",
       "    <tr>\n",
       "      <th>3</th>\n",
       "      <td>cuisine_Chinese</td>\n",
       "      <td>0.0839621</td>\n",
       "    </tr>\n",
       "    <tr>\n",
       "      <th>4</th>\n",
       "      <td>cuisine_American (Traditional)</td>\n",
       "      <td>0.255647</td>\n",
       "    </tr>\n",
       "    <tr>\n",
       "      <th>5</th>\n",
       "      <td>cuisine_Italian</td>\n",
       "      <td>-0.188375</td>\n",
       "    </tr>\n",
       "    <tr>\n",
       "      <th>6</th>\n",
       "      <td>cuisine_Mexican</td>\n",
       "      <td>-0.263167</td>\n",
       "    </tr>\n",
       "    <tr>\n",
       "      <th>7</th>\n",
       "      <td>cuisine_Thai</td>\n",
       "      <td>0.15934</td>\n",
       "    </tr>\n",
       "    <tr>\n",
       "      <th>8</th>\n",
       "      <td>cuisine_others</td>\n",
       "      <td>0.0538622</td>\n",
       "    </tr>\n",
       "    <tr>\n",
       "      <th>9</th>\n",
       "      <td>cuisine_American (New)</td>\n",
       "      <td>0.465049</td>\n",
       "    </tr>\n",
       "    <tr>\n",
       "      <th>10</th>\n",
       "      <td>cuisine_Indian</td>\n",
       "      <td>0.175211</td>\n",
       "    </tr>\n",
       "    <tr>\n",
       "      <th>11</th>\n",
       "      <td>cuisine_Japanese</td>\n",
       "      <td>0.475752</td>\n",
       "    </tr>\n",
       "    <tr>\n",
       "      <th>12</th>\n",
       "      <td>cuisine_Greek</td>\n",
       "      <td>0.0578255</td>\n",
       "    </tr>\n",
       "    <tr>\n",
       "      <th>13</th>\n",
       "      <td>cuisine_Mediterranean</td>\n",
       "      <td>-0.829347</td>\n",
       "    </tr>\n",
       "    <tr>\n",
       "      <th>14</th>\n",
       "      <td>hyg_0</td>\n",
       "      <td>0.0434224</td>\n",
       "    </tr>\n",
       "    <tr>\n",
       "      <th>15</th>\n",
       "      <td>hyg_1</td>\n",
       "      <td>0.46863</td>\n",
       "    </tr>\n",
       "    <tr>\n",
       "      <th>16</th>\n",
       "      <td>hyg_2</td>\n",
       "      <td>-0.0328118</td>\n",
       "    </tr>\n",
       "    <tr>\n",
       "      <th>17</th>\n",
       "      <td>hyg_3</td>\n",
       "      <td>0.0195873</td>\n",
       "    </tr>\n",
       "    <tr>\n",
       "      <th>18</th>\n",
       "      <td>hyg_4</td>\n",
       "      <td>0.0260976</td>\n",
       "    </tr>\n",
       "    <tr>\n",
       "      <th>19</th>\n",
       "      <td>hyg_5</td>\n",
       "      <td>0.0297014</td>\n",
       "    </tr>\n",
       "    <tr>\n",
       "      <th>20</th>\n",
       "      <td>unh_0</td>\n",
       "      <td>-0.365957</td>\n",
       "    </tr>\n",
       "    <tr>\n",
       "      <th>21</th>\n",
       "      <td>unh_1</td>\n",
       "      <td>0.355583</td>\n",
       "    </tr>\n",
       "    <tr>\n",
       "      <th>22</th>\n",
       "      <td>unh_2</td>\n",
       "      <td>-0.480157</td>\n",
       "    </tr>\n",
       "    <tr>\n",
       "      <th>23</th>\n",
       "      <td>unh_3</td>\n",
       "      <td>-0.00542569</td>\n",
       "    </tr>\n",
       "    <tr>\n",
       "      <th>24</th>\n",
       "      <td>stars_y</td>\n",
       "      <td>-0.84445</td>\n",
       "    </tr>\n",
       "    <tr>\n",
       "      <th>25</th>\n",
       "      <td>count</td>\n",
       "      <td>1.96225</td>\n",
       "    </tr>\n",
       "    <tr>\n",
       "      <th>26</th>\n",
       "      <td>Low_y</td>\n",
       "      <td>0.993113</td>\n",
       "    </tr>\n",
       "    <tr>\n",
       "      <th>27</th>\n",
       "      <td>Medium_y</td>\n",
       "      <td>1.5358</td>\n",
       "    </tr>\n",
       "    <tr>\n",
       "      <th>28</th>\n",
       "      <td>High_y</td>\n",
       "      <td>2.22233</td>\n",
       "    </tr>\n",
       "  </tbody>\n",
       "</table>\n",
       "</div>"
      ],
      "text/plain": [
       "                                 0           1\n",
       "0                            price    0.231729\n",
       "1             cuisine_Asian Fusion   0.0507491\n",
       "2               cuisine_Vegetarian   -0.163093\n",
       "3                  cuisine_Chinese   0.0839621\n",
       "4   cuisine_American (Traditional)    0.255647\n",
       "5                  cuisine_Italian   -0.188375\n",
       "6                  cuisine_Mexican   -0.263167\n",
       "7                     cuisine_Thai     0.15934\n",
       "8                   cuisine_others   0.0538622\n",
       "9           cuisine_American (New)    0.465049\n",
       "10                  cuisine_Indian    0.175211\n",
       "11                cuisine_Japanese    0.475752\n",
       "12                   cuisine_Greek   0.0578255\n",
       "13           cuisine_Mediterranean   -0.829347\n",
       "14                           hyg_0   0.0434224\n",
       "15                           hyg_1     0.46863\n",
       "16                           hyg_2  -0.0328118\n",
       "17                           hyg_3   0.0195873\n",
       "18                           hyg_4   0.0260976\n",
       "19                           hyg_5   0.0297014\n",
       "20                           unh_0   -0.365957\n",
       "21                           unh_1    0.355583\n",
       "22                           unh_2   -0.480157\n",
       "23                           unh_3 -0.00542569\n",
       "24                         stars_y    -0.84445\n",
       "25                           count     1.96225\n",
       "26                           Low_y    0.993113\n",
       "27                        Medium_y      1.5358\n",
       "28                          High_y     2.22233"
      ]
     },
     "execution_count": 14,
     "metadata": {},
     "output_type": "execute_result"
    }
   ],
   "source": [
    "pd.DataFrame([features, SelectedLogRegModel.coef_.tolist()[0]]).T"
   ]
  },
  {
   "cell_type": "code",
   "execution_count": 15,
   "metadata": {
    "collapsed": false
   },
   "outputs": [],
   "source": [
    "X_test_df = pd.concat([pd.DataFrame(X_test, columns=features), pd.Series(iy['Facility Name'])], axis=1, join='inner')\n",
    "output = pd.concat([X_test_df.reset_index(drop=True), pd.DataFrame(Y_test, columns=['True']), pd.DataFrame(PredictedOutput, columns=['Prediction'])], axis=1)\n",
    "output = output.rename(columns={0: 'True', 1: 'Prediction'})\n",
    "output.to_csv('../test_output_log_reg.csv')"
   ]
  },
  {
   "cell_type": "markdown",
   "metadata": {},
   "source": [
    "## B) Naive Bayes"
   ]
  },
  {
   "cell_type": "code",
   "execution_count": null,
   "metadata": {
    "collapsed": true
   },
   "outputs": [],
   "source": [
    "from sklearn.naive_bayes import GaussianNB\n",
    "\n",
    "# your GNB estimator\n",
    "gnb = GaussianNB()\n",
    "gnb.fit(X_trainval_scaled, Y_trainval)\n",
    "\n",
    "test_score = gnb.score(X_test_scaled, Y_test)\n",
    "PredictedOutput = gnb.predict(X_test_scaled)\n",
    "test_recall = recall_score(Y_test, PredictedOutput, pos_label=1)\n",
    "fpr, tpr, thresholds = roc_curve(Y_test, PredictedOutput, pos_label=1)\n",
    "test_auc = auc(fpr, tpr)\n",
    "print(\"Test accuracy with the best parameters is\", test_score)\n",
    "print(\"Test recall with the best parameters is\", test_recall)\n",
    "print(\"Test recall with the best parameter is\", test_auc)\n",
    "\n",
    "m = 'GNB'\n",
    "acc.append([m, test_score, test_recall, test_auc, fpr, tpr, thresholds])"
   ]
  },
  {
   "cell_type": "markdown",
   "metadata": {},
   "source": [
    "## C) SVM\n",
    "C: Penalty parameter C of the error term.\n",
    "\n",
    "gamma: kernel coefficient. \n",
    "\n",
    "kernel: kernel type. "
   ]
  },
  {
   "cell_type": "code",
   "execution_count": 16,
   "metadata": {
    "collapsed": false,
    "scrolled": true
   },
   "outputs": [
    {
     "name": "stdout",
     "output_type": "stream",
     "text": [
      "0.001 0.001 rbf\n",
      "0.001 0.1 rbf\n",
      "0.001 10 rbf\n",
      "0.001 100 rbf\n",
      "0.1 0.001 rbf\n",
      "0.1 0.1 rbf\n",
      "0.1 10 rbf\n",
      "0.1 100 rbf\n",
      "10 0.001 rbf\n",
      "10 0.1 rbf\n",
      "10 10 rbf\n",
      "10 100 rbf\n",
      "100 0.001 rbf\n",
      "100 0.1 rbf\n",
      "100 10 rbf\n",
      "100 100 rbf\n",
      "Best accuracy on cross validation set is: 0.702932722374\n",
      "Best parameter for c is:  10\n",
      "Best parameter for gamma is:  0.1\n",
      "Best parameter for kernel is:  rbf\n",
      "Test accuracy with the best parameters is 0.668402777778\n",
      "Test recall with the best parameters is 0.715151515152\n",
      "Test recall with the best parameter is 0.660421286031\n"
     ]
    }
   ],
   "source": [
    "best_score = 0\n",
    "\n",
    "for c_paramter in [0.001, 0.1, 10, 100]: #iterate over the values we need to try for the parameter C\n",
    "    for gamma_paramter in [0.001, 0.1, 10, 100]: #iterate over the values we need to try for the parameter gamma\n",
    "        for k_parameter in ['rbf']: # iterate over the values we need to try for the kernel parameter\n",
    "            print(c_paramter, gamma_paramter, k_parameter)\n",
    "            svmModel = SVC(kernel=k_parameter, C=c_paramter, gamma=gamma_paramter) #define the model\n",
    "            # perform cross-validation\n",
    "            scores = cross_val_score(svmModel, X_trainval_scaled, Y_trainval, cv=kfolds, scoring='accuracy')\n",
    "            # the training set will be split internally into training and cross validation\n",
    "\n",
    "            # compute mean cross-validation accuracy\n",
    "            score = np.mean(scores)\n",
    "            # if we got a better score, store the score and parameters\n",
    "            if score > best_score:\n",
    "                best_score = score #store the score \n",
    "                best_parameter_c = c_paramter #store the parameter c\n",
    "                best_parameter_gamma = gamma_paramter #store the parameter gamma\n",
    "                best_parameter_k = k_parameter\n",
    "            \n",
    "\n",
    "# rebuild a model with best parameters to get score \n",
    "SelectedSVMmodel = SVC(C=best_parameter_c, gamma=best_parameter_gamma, kernel=best_parameter_k).fit(X_trainval_scaled, Y_trainval)\n",
    "\n",
    "test_score = SelectedSVMmodel.score(X_test_scaled, Y_test)\n",
    "PredictedOutput = SelectedSVMmodel.predict(X_test_scaled)\n",
    "test_recall = recall_score(Y_test, PredictedOutput, pos_label=1)\n",
    "fpr, tpr, thresholds = roc_curve(Y_test, PredictedOutput, pos_label=1)\n",
    "test_auc = auc(fpr, tpr)\n",
    "print(\"Best accuracy on cross validation set is:\", best_score)\n",
    "print(\"Best parameter for c is: \", best_parameter_c)\n",
    "print(\"Best parameter for gamma is: \", best_parameter_gamma)\n",
    "print(\"Best parameter for kernel is: \", best_parameter_k)\n",
    "print(\"Test accuracy with the best parameters is\", test_score)\n",
    "print(\"Test recall with the best parameters is\", test_recall)\n",
    "print(\"Test recall with the best parameter is\", test_auc)\n",
    "\n",
    "m = 'SVM'\n",
    "acc.append([m, test_score, test_recall, test_auc, fpr, tpr, thresholds])"
   ]
  },
  {
   "cell_type": "markdown",
   "metadata": {},
   "source": [
    "## D) Decision Tree\n",
    "Maximum depth. [1, 2, ..., 5]\n"
   ]
  },
  {
   "cell_type": "code",
   "execution_count": 17,
   "metadata": {
    "collapsed": false
   },
   "outputs": [
    {
     "name": "stdout",
     "output_type": "stream",
     "text": [
      "Best accuracy on validation set is: 0.69944938641\n",
      "Best parameter for the maximum depth is:  2\n",
      "Test accuracy with best parameter is  0.661458333333\n",
      "Test recall with best parameters is  0.821212121212\n",
      "Test AUC with the best parameter is  0.634183296378\n"
     ]
    }
   ],
   "source": [
    "best_score = 0\n",
    "\n",
    "for md in range(1, 6): # iterate different maximum depth values\n",
    "    # train the model\n",
    "    treeModel = DecisionTreeClassifier(random_state=0, max_depth=md, criterion='gini')\n",
    "    # perform cross-validation\n",
    "    scores = cross_val_score(treeModel, X_trainval_scaled, Y_trainval, cv=kfolds, scoring='accuracy')\n",
    "    \n",
    "    # compute mean cross-validation accuracy\n",
    "    score = np.mean(scores)\n",
    "    \n",
    "    # if we got a better score, store the score and parameters\n",
    "    if score > best_score:\n",
    "        best_score = score\n",
    "        best_parameter = md\n",
    "\n",
    "# Rebuild a model on the combined training and validation set        \n",
    "SelectedDTModel = DecisionTreeClassifier(max_depth=best_parameter).fit(X_trainval_scaled, Y_trainval )\n",
    "\n",
    "test_score = SelectedDTModel.score(X_test_scaled, Y_test)\n",
    "PredictedOutput = SelectedDTModel.predict(X_test_scaled)\n",
    "test_recall = recall_score(Y_test, PredictedOutput, pos_label=1)\n",
    "fpr, tpr, thresholds = roc_curve(Y_test, PredictedOutput, pos_label=1)\n",
    "test_auc = auc(fpr, tpr)\n",
    "print(\"Best accuracy on validation set is:\", best_score)\n",
    "print(\"Best parameter for the maximum depth is: \", best_parameter)\n",
    "print(\"Test accuracy with best parameter is \", test_score)\n",
    "print(\"Test recall with best parameters is \", test_recall)\n",
    "print(\"Test AUC with the best parameter is \", test_auc)\n",
    "\n",
    "m = 'Decision Tree'\n",
    "acc.append([m, test_score, test_recall, test_auc, fpr, tpr, thresholds])"
   ]
  },
  {
   "cell_type": "markdown",
   "metadata": {},
   "source": [
    "## E) Random Forest Classifier\n",
    "n_estimators(M): the number of trees in the forest\n",
    "\n",
    "max_features(d): the number of features to consider when looking for the best split\n",
    "\n",
    "max_depth(m): the maximum depth of the tree. "
   ]
  },
  {
   "cell_type": "code",
   "execution_count": 18,
   "metadata": {
    "collapsed": false
   },
   "outputs": [
    {
     "name": "stdout",
     "output_type": "stream",
     "text": [
      "Best accuracy on validation set is: 0.717400363536\n",
      "Best parameters of M, d, m are:  34 6 2\n",
      "Test accuracy with the best parameters is 0.663194444444\n",
      "Test recall with the best parameters is: 0.739393939394\n",
      "Test AUC with the best parameters is: 0.650184774575\n"
     ]
    }
   ],
   "source": [
    "best_score = 0\n",
    "\n",
    "for M in range(2, 50, 1): # combines M trees\n",
    "    for d in range(1, 13): # maximum number of features considered at each split\n",
    "        for m in range(1, 9): # maximum depth of the tree\n",
    "            # train the model\n",
    "            # n_jobs(-1) is the maximum number of parallel computing\n",
    "            forestModel = RandomForestClassifier(n_estimators=M, max_features=d, n_jobs=-1,\n",
    "                                          max_depth=m, random_state=0)\n",
    "        \n",
    "            # perform cross-validation\n",
    "            scores = cross_val_score(forestModel, X_trainval_scaled, Y_trainval, cv=kfolds, scoring='accuracy')\n",
    "\n",
    "            # compute mean cross-validation accuracy\n",
    "            score = np.mean(scores)\n",
    "\n",
    "            # if we got a better score, store the score and parameters\n",
    "            if score > best_score:\n",
    "                best_score = score\n",
    "                best_M = M\n",
    "                best_d = d\n",
    "                best_m = m\n",
    "\n",
    "# Rebuild a model on the combined training and validation set        \n",
    "SelectedRFModel = RandomForestClassifier(n_estimators=M, max_features=d,\n",
    "                                          max_depth=m, random_state=0).fit(X_trainval_scaled, Y_trainval )\n",
    "\n",
    "PredictedOutput = SelectedRFModel.predict(X_test_scaled)\n",
    "test_score = SelectedRFModel.score(X_test_scaled, Y_test)\n",
    "test_recall = recall_score(Y_test, PredictedOutput, pos_label=1)\n",
    "fpr, tpr, thresholds = roc_curve(Y_test, PredictedOutput, pos_label=1)\n",
    "test_auc = auc(fpr, tpr)\n",
    "print(\"Best accuracy on validation set is:\", best_score)\n",
    "print(\"Best parameters of M, d, m are: \", best_M, best_d, best_m)\n",
    "print(\"Test accuracy with the best parameters is\", test_score)\n",
    "print(\"Test recall with the best parameters is:\", test_recall)\n",
    "print(\"Test AUC with the best parameters is:\", test_auc)\n",
    "\n",
    "m = 'Random Forest'\n",
    "acc.append([m, test_score, test_recall, test_auc, fpr, tpr, thresholds])"
   ]
  },
  {
   "cell_type": "code",
   "execution_count": 19,
   "metadata": {
    "collapsed": false
   },
   "outputs": [
    {
     "data": {
      "text/html": [
       "<div>\n",
       "<style>\n",
       "    .dataframe thead tr:only-child th {\n",
       "        text-align: right;\n",
       "    }\n",
       "\n",
       "    .dataframe thead th {\n",
       "        text-align: left;\n",
       "    }\n",
       "\n",
       "    .dataframe tbody tr th {\n",
       "        vertical-align: top;\n",
       "    }\n",
       "</style>\n",
       "<table border=\"1\" class=\"dataframe\">\n",
       "  <thead>\n",
       "    <tr style=\"text-align: right;\">\n",
       "      <th></th>\n",
       "      <th>0</th>\n",
       "      <th>1</th>\n",
       "    </tr>\n",
       "  </thead>\n",
       "  <tbody>\n",
       "    <tr>\n",
       "      <th>0</th>\n",
       "      <td>price</td>\n",
       "      <td>0.0105347</td>\n",
       "    </tr>\n",
       "    <tr>\n",
       "      <th>1</th>\n",
       "      <td>cuisine_Asian Fusion</td>\n",
       "      <td>0.000937499</td>\n",
       "    </tr>\n",
       "    <tr>\n",
       "      <th>2</th>\n",
       "      <td>cuisine_Vegetarian</td>\n",
       "      <td>0.00180275</td>\n",
       "    </tr>\n",
       "    <tr>\n",
       "      <th>3</th>\n",
       "      <td>cuisine_Chinese</td>\n",
       "      <td>0.00251821</td>\n",
       "    </tr>\n",
       "    <tr>\n",
       "      <th>4</th>\n",
       "      <td>cuisine_American (Traditional)</td>\n",
       "      <td>0.00548718</td>\n",
       "    </tr>\n",
       "    <tr>\n",
       "      <th>5</th>\n",
       "      <td>cuisine_Italian</td>\n",
       "      <td>0.0121878</td>\n",
       "    </tr>\n",
       "    <tr>\n",
       "      <th>6</th>\n",
       "      <td>cuisine_Mexican</td>\n",
       "      <td>0.00431027</td>\n",
       "    </tr>\n",
       "    <tr>\n",
       "      <th>7</th>\n",
       "      <td>cuisine_Thai</td>\n",
       "      <td>0.00388832</td>\n",
       "    </tr>\n",
       "    <tr>\n",
       "      <th>8</th>\n",
       "      <td>cuisine_others</td>\n",
       "      <td>0.00386718</td>\n",
       "    </tr>\n",
       "    <tr>\n",
       "      <th>9</th>\n",
       "      <td>cuisine_American (New)</td>\n",
       "      <td>0.00788052</td>\n",
       "    </tr>\n",
       "    <tr>\n",
       "      <th>10</th>\n",
       "      <td>cuisine_Indian</td>\n",
       "      <td>0.000968073</td>\n",
       "    </tr>\n",
       "    <tr>\n",
       "      <th>11</th>\n",
       "      <td>cuisine_Japanese</td>\n",
       "      <td>0.00151084</td>\n",
       "    </tr>\n",
       "    <tr>\n",
       "      <th>12</th>\n",
       "      <td>cuisine_Greek</td>\n",
       "      <td>0.00146568</td>\n",
       "    </tr>\n",
       "    <tr>\n",
       "      <th>13</th>\n",
       "      <td>cuisine_Mediterranean</td>\n",
       "      <td>0.00439084</td>\n",
       "    </tr>\n",
       "    <tr>\n",
       "      <th>14</th>\n",
       "      <td>hyg_0</td>\n",
       "      <td>0.0313591</td>\n",
       "    </tr>\n",
       "    <tr>\n",
       "      <th>15</th>\n",
       "      <td>hyg_1</td>\n",
       "      <td>0.0256199</td>\n",
       "    </tr>\n",
       "    <tr>\n",
       "      <th>16</th>\n",
       "      <td>hyg_2</td>\n",
       "      <td>0.0435314</td>\n",
       "    </tr>\n",
       "    <tr>\n",
       "      <th>17</th>\n",
       "      <td>hyg_3</td>\n",
       "      <td>0.0621987</td>\n",
       "    </tr>\n",
       "    <tr>\n",
       "      <th>18</th>\n",
       "      <td>hyg_4</td>\n",
       "      <td>0.0529174</td>\n",
       "    </tr>\n",
       "    <tr>\n",
       "      <th>19</th>\n",
       "      <td>hyg_5</td>\n",
       "      <td>0.0435939</td>\n",
       "    </tr>\n",
       "    <tr>\n",
       "      <th>20</th>\n",
       "      <td>unh_0</td>\n",
       "      <td>0.0464613</td>\n",
       "    </tr>\n",
       "    <tr>\n",
       "      <th>21</th>\n",
       "      <td>unh_1</td>\n",
       "      <td>0.0387635</td>\n",
       "    </tr>\n",
       "    <tr>\n",
       "      <th>22</th>\n",
       "      <td>unh_2</td>\n",
       "      <td>0.0486179</td>\n",
       "    </tr>\n",
       "    <tr>\n",
       "      <th>23</th>\n",
       "      <td>unh_3</td>\n",
       "      <td>0.0541983</td>\n",
       "    </tr>\n",
       "    <tr>\n",
       "      <th>24</th>\n",
       "      <td>stars_y</td>\n",
       "      <td>0.0657066</td>\n",
       "    </tr>\n",
       "    <tr>\n",
       "      <th>25</th>\n",
       "      <td>count</td>\n",
       "      <td>0.0641237</td>\n",
       "    </tr>\n",
       "    <tr>\n",
       "      <th>26</th>\n",
       "      <td>Low_y</td>\n",
       "      <td>0.126247</td>\n",
       "    </tr>\n",
       "    <tr>\n",
       "      <th>27</th>\n",
       "      <td>Medium_y</td>\n",
       "      <td>0.0509561</td>\n",
       "    </tr>\n",
       "    <tr>\n",
       "      <th>28</th>\n",
       "      <td>High_y</td>\n",
       "      <td>0.183955</td>\n",
       "    </tr>\n",
       "  </tbody>\n",
       "</table>\n",
       "</div>"
      ],
      "text/plain": [
       "                                 0            1\n",
       "0                            price    0.0105347\n",
       "1             cuisine_Asian Fusion  0.000937499\n",
       "2               cuisine_Vegetarian   0.00180275\n",
       "3                  cuisine_Chinese   0.00251821\n",
       "4   cuisine_American (Traditional)   0.00548718\n",
       "5                  cuisine_Italian    0.0121878\n",
       "6                  cuisine_Mexican   0.00431027\n",
       "7                     cuisine_Thai   0.00388832\n",
       "8                   cuisine_others   0.00386718\n",
       "9           cuisine_American (New)   0.00788052\n",
       "10                  cuisine_Indian  0.000968073\n",
       "11                cuisine_Japanese   0.00151084\n",
       "12                   cuisine_Greek   0.00146568\n",
       "13           cuisine_Mediterranean   0.00439084\n",
       "14                           hyg_0    0.0313591\n",
       "15                           hyg_1    0.0256199\n",
       "16                           hyg_2    0.0435314\n",
       "17                           hyg_3    0.0621987\n",
       "18                           hyg_4    0.0529174\n",
       "19                           hyg_5    0.0435939\n",
       "20                           unh_0    0.0464613\n",
       "21                           unh_1    0.0387635\n",
       "22                           unh_2    0.0486179\n",
       "23                           unh_3    0.0541983\n",
       "24                         stars_y    0.0657066\n",
       "25                           count    0.0641237\n",
       "26                           Low_y     0.126247\n",
       "27                        Medium_y    0.0509561\n",
       "28                          High_y     0.183955"
      ]
     },
     "execution_count": 19,
     "metadata": {},
     "output_type": "execute_result"
    }
   ],
   "source": [
    "pd.DataFrame([features, SelectedRFModel.feature_importances_.tolist()]).T"
   ]
  },
  {
   "cell_type": "markdown",
   "metadata": {},
   "source": [
    "## F) AdaBoost"
   ]
  },
  {
   "cell_type": "code",
   "execution_count": 20,
   "metadata": {
    "collapsed": false,
    "scrolled": false
   },
   "outputs": [
    {
     "name": "stdout",
     "output_type": "stream",
     "text": [
      "Best accuracy on validation set is: 0.702937748762\n",
      "Best parameter of M is:  28\n",
      "best parameter of LR is:  0.1\n",
      "Test accuracy with the best parameter is 0.663194444444\n",
      "Test recall with the best parameters is: 0.715151515152\n",
      "Test AUC with the best parameters is: 0.658388765706\n"
     ]
    }
   ],
   "source": [
    "best_score = 0\n",
    "\n",
    "for M in range(2, 30, 2): # combines M trees\n",
    "    for lr in [0.001, 0.01, 0.1, 1]:\n",
    "        # train the model\n",
    "        boostModel = AdaBoostClassifier(n_estimators=M, learning_rate=lr, random_state=0)\n",
    "\n",
    "        # perform cross-validation\n",
    "        scores = cross_val_score(boostModel, X_trainval_scaled, Y_trainval, cv=kfolds, scoring='accuracy')\n",
    "\n",
    "        # compute mean cross-validation accuracy\n",
    "        score = np.mean(scores)\n",
    "\n",
    "        # if we got a better score, store the score and parameters\n",
    "        if score > best_score:\n",
    "            best_score = score\n",
    "            best_M = M\n",
    "            best_lr = lr\n",
    "\n",
    "# Rebuild a model on the combined training and validation set        \n",
    "SelectedBoostModel = AdaBoostClassifier(n_estimators=M, learning_rate=lr, random_state=0).fit(X_trainval_scaled, Y_trainval )\n",
    "\n",
    "PredictedOutput = SelectedBoostModel.predict(X_test_scaled)\n",
    "test_score = SelectedRFModel.score(X_test_scaled, Y_test)\n",
    "test_recall = recall_score(Y_test, PredictedOutput, pos_label=1)\n",
    "fpr, tpr, thresholds = roc_curve(Y_test, PredictedOutput, pos_label=1)\n",
    "test_auc = auc(fpr, tpr)\n",
    "print(\"Best accuracy on validation set is:\", best_score)\n",
    "print(\"Best parameter of M is: \", best_M)\n",
    "print(\"best parameter of LR is: \", best_lr)\n",
    "print(\"Test accuracy with the best parameter is\", test_score)\n",
    "print(\"Test recall with the best parameters is:\", test_recall)\n",
    "print(\"Test AUC with the best parameters is:\", test_auc)\n",
    "\n",
    "m = 'AdaBoost'\n",
    "acc.append([m, test_score, test_recall, test_auc, fpr, tpr, thresholds])"
   ]
  },
  {
   "cell_type": "markdown",
   "metadata": {},
   "source": [
    "## Results"
   ]
  },
  {
   "cell_type": "code",
   "execution_count": 21,
   "metadata": {
    "collapsed": false,
    "scrolled": true
   },
   "outputs": [
    {
     "data": {
      "text/html": [
       "<div>\n",
       "<style>\n",
       "    .dataframe thead tr:only-child th {\n",
       "        text-align: right;\n",
       "    }\n",
       "\n",
       "    .dataframe thead th {\n",
       "        text-align: left;\n",
       "    }\n",
       "\n",
       "    .dataframe tbody tr th {\n",
       "        vertical-align: top;\n",
       "    }\n",
       "</style>\n",
       "<table border=\"1\" class=\"dataframe\">\n",
       "  <thead>\n",
       "    <tr style=\"text-align: right;\">\n",
       "      <th></th>\n",
       "      <th>Model</th>\n",
       "      <th>Accuracy</th>\n",
       "      <th>Recall</th>\n",
       "      <th>AUC</th>\n",
       "    </tr>\n",
       "  </thead>\n",
       "  <tbody>\n",
       "    <tr>\n",
       "      <th>0</th>\n",
       "      <td>Logistic Regression</td>\n",
       "      <td>0.664931</td>\n",
       "      <td>0.687879</td>\n",
       "      <td>0.661013</td>\n",
       "    </tr>\n",
       "    <tr>\n",
       "      <th>1</th>\n",
       "      <td>SVM</td>\n",
       "      <td>0.668403</td>\n",
       "      <td>0.715152</td>\n",
       "      <td>0.660421</td>\n",
       "    </tr>\n",
       "    <tr>\n",
       "      <th>2</th>\n",
       "      <td>Decision Tree</td>\n",
       "      <td>0.661458</td>\n",
       "      <td>0.821212</td>\n",
       "      <td>0.634183</td>\n",
       "    </tr>\n",
       "    <tr>\n",
       "      <th>3</th>\n",
       "      <td>Random Forest</td>\n",
       "      <td>0.663194</td>\n",
       "      <td>0.739394</td>\n",
       "      <td>0.650185</td>\n",
       "    </tr>\n",
       "    <tr>\n",
       "      <th>4</th>\n",
       "      <td>AdaBoost</td>\n",
       "      <td>0.663194</td>\n",
       "      <td>0.715152</td>\n",
       "      <td>0.658389</td>\n",
       "    </tr>\n",
       "  </tbody>\n",
       "</table>\n",
       "</div>"
      ],
      "text/plain": [
       "                 Model  Accuracy    Recall       AUC\n",
       "0  Logistic Regression  0.664931  0.687879  0.661013\n",
       "1                  SVM  0.668403  0.715152  0.660421\n",
       "2        Decision Tree  0.661458  0.821212  0.634183\n",
       "3        Random Forest  0.663194  0.739394  0.650185\n",
       "4             AdaBoost  0.663194  0.715152  0.658389"
      ]
     },
     "execution_count": 21,
     "metadata": {},
     "output_type": "execute_result"
    }
   ],
   "source": [
    "result = pd.DataFrame(acc, columns=['Model', 'Accuracy', 'Recall', 'AUC', 'TPR', 'FPR', 'TH'])\n",
    "result[['Model', 'Accuracy', 'Recall', 'AUC']]"
   ]
  },
  {
   "cell_type": "code",
   "execution_count": 22,
   "metadata": {
    "collapsed": false,
    "scrolled": true
   },
   "outputs": [
    {
     "data": {
      "text/plain": [
       "'\\tModel\\tAccuracy\\tRecall\\tAUC\\n0\\tLogistic Regression\\t0.601050\\t0.391137\\t0.583389\\n1\\tSVM\\t0.570429\\t0.337187\\t0.550805\\n2\\tDecision Tree\\t0.570429\\t0.169557\\t0.536701\\n3\\tRandom Forest\\t0.570429\\t0.366089\\t0.553237\\n4\\tAdaBoost\\t0.570429\\t0.431599\\t0.581184 '"
      ]
     },
     "execution_count": 22,
     "metadata": {},
     "output_type": "execute_result"
    }
   ],
   "source": [
    "# Previous result\n",
    "'''\tModel\tAccuracy\tRecall\tAUC\n",
    "0\tLogistic Regression\t0.601050\t0.391137\t0.583389\n",
    "1\tSVM\t0.570429\t0.337187\t0.550805\n",
    "2\tDecision Tree\t0.570429\t0.169557\t0.536701\n",
    "3\tRandom Forest\t0.570429\t0.366089\t0.553237\n",
    "4\tAdaBoost\t0.570429\t0.431599\t0.581184 '''"
   ]
  },
  {
   "cell_type": "markdown",
   "metadata": {
    "collapsed": true
   },
   "source": [
    "## Comment\n",
    "This model can be improved with several ways.\n",
    "\n",
    "- Dimension reduction\n",
    "- Using only unhygine dictionary words (Feature Selection)\n",
    "- Applying word2vec to Yelp review and tips data"
   ]
  },
  {
   "cell_type": "code",
   "execution_count": null,
   "metadata": {
    "collapsed": true
   },
   "outputs": [],
   "source": []
  }
 ],
 "metadata": {
  "anaconda-cloud": {},
  "kernelspec": {
   "display_name": "Python [Root]",
   "language": "python",
   "name": "Python [Root]"
  },
  "language_info": {
   "codemirror_mode": {
    "name": "ipython",
    "version": 3
   },
   "file_extension": ".py",
   "mimetype": "text/x-python",
   "name": "python",
   "nbconvert_exporter": "python",
   "pygments_lexer": "ipython3",
   "version": "3.5.2"
  }
 },
 "nbformat": 4,
 "nbformat_minor": 2
}
